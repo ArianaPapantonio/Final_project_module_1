{
 "cells": [
  {
   "cell_type": "markdown",
   "metadata": {},
   "source": [
    "# Preguntas y Respuestas\n",
    "\n",
    "\n",
    "- Reglas del Juego de \"Preguntas y Respuestas de Geografía\":\n",
    "    - El juego consiste en hacer preguntas de geografía y que el jugador adivine la respuesta correcta.\n",
    "\n",
    "    - Cada pregunta tiene una respuesta única y correcta.\n",
    "\n",
    "    - El jugador tiene un número limitado de intentos para responder correctamente a cada pregunta.\n",
    "\n",
    "    - El juego sigue hasta que el jugador responda incorrectamente 3 de veces o haya respondido 5 preguntas correctamente.\n",
    "\n",
    "\n",
    "- Pistas para las alumnas:\n",
    "\n",
    "    1. Comienza creando un diccionario que contenga preguntas de geografía como claves y respuestas como valores.\n",
    "\n",
    "    2. Implementa una función para seleccionar una pregunta aleatoria del diccionario.\n",
    "\n",
    "    3. Utiliza un bucle `while` para hacer preguntas de geografía hasta que el jugador responda un número específico de preguntas correctamente o alcance un número máximo de respuestas incorrectas.\n",
    "\n",
    "    4. Dentro del bucle, presenta la pregunta al jugador y permita que ingresen sus respuestas.\n",
    "\n",
    "    5. Lleva un seguimiento del número de preguntas realizadas y el número de respuestas correctas.\n",
    "\n",
    "    6. Determina las condiciones de victoria y derrota del juego y sal del bucle cuando se cumplan estas condiciones."
   ]
  },
  {
   "cell_type": "code",
   "execution_count": 17,
   "metadata": {},
   "outputs": [
    {
     "name": "stdout",
     "output_type": "stream",
     "text": [
      "{'Cuál es la capital de Castilla-La Mancha?': 'toledo', 'Cuál es el desierto más grande del mundo?': 'la antártida', 'Cuál es el país con más población del mundo?': 'india'}\n",
      "['Cuál es la capital de Castilla-La Mancha?', 'Cuál es el desierto más grande del mundo?', 'Cuál es el país con más población del mundo?']\n",
      "Cuál es el desierto más grande del mundo?\n",
      "El conteo de preguntas va por 1\n",
      "toledo\n",
      "La respuesta del usuario es toledo\n"
     ]
    }
   ],
   "source": [
    "#Diccionario con preguntas y respuestas (8 parejas)\n",
    "# Probamos de momento con 3 preguntas\n",
    "# PDT poner 5 preguntas más\n",
    "\n",
    "# Importar la librería random\n",
    "import random\n",
    "\n",
    "# Crear el diccionario con las preguntas y respuestas\n",
    "# PDT: Comprobar si afecta el espacio en las respuestas y el acento\n",
    "preguntas_respuestas = {\n",
    "    \"Cuál es la capital de Castilla-La Mancha?\": \"toledo\",\n",
    "    \"Cuál es el desierto más grande del mundo?\": \"la antártida\",\n",
    "    \"Cuál es el país con más población del mundo?\": \"india\"\n",
    "}\n",
    "\n",
    "#Mostrar el diccionario\n",
    "print(preguntas_respuestas)\n",
    "\n",
    "# Definir variables de conteo para respuestas realizadas, correctas y falladas\n",
    "intentos_pregunta = 0\n",
    "conteo_preguntas = 0\n",
    "respuestas_correctas = 0\n",
    "respuestas_incorrectas = 0\n",
    "\n",
    "# Para usar el random choice necesitamos una lista.\n",
    "# Pasamos el dict a lista\n",
    "preguntas_respuestas_lista = list(preguntas_respuestas)\n",
    "print(preguntas_respuestas_lista)\n",
    "\n",
    "\n",
    "# PDTE: Ajustar con los valores correctos después de la prueba\n",
    "# PDTE condiciones del while\n",
    "while True: #respuestas_correctas == 2 and respuestas_incorrectas != 0: \n",
    "    # Generamos pregunta random\n",
    "    pregunta_random = random.choice(preguntas_respuestas_lista)\n",
    "    print(pregunta_random)\n",
    "    \n",
    "    # Llevamos la cuenta de las preguntas hechas, independientemente de si son correctas o no\n",
    "    conteo_preguntas += 1\n",
    "    print(f\"El conteo de preguntas va por {conteo_preguntas}\")\n",
    "    \n",
    "    # Mostramos pregunta al usuario y recogemos respuesta\n",
    "    respuesta_usuario = (input(f\"Responda la siguiente pregunta {pregunta_random}\")).lower()\n",
    "    print(f\"La respuesta del usuario es {respuesta_usuario}\")\n",
    "    \n",
    "    # Posibles opciones según la respuesta del usuario\n",
    "    # pregunta_random nos está dando la key del diccionario de la pregunta hecha al usuario \n",
    "    # Comparar la respuesta del usuario con el value correspondiente a la key del diccionario\n",
    "    # A través de la key podemos llegar al value\n",
    "    if respuesta_usuario == preguntas_respuestas.get(pregunta_random):\n",
    "        print(f\"preguntas_respuestas.get(pregunta_random) da el valor {preguntas_respuestas.get(pregunta_random)}\")\n",
    "        respuestas_correctas += 1\n",
    "    \n",
    "\n",
    "\n",
    "\n"
   ]
  }
 ],
 "metadata": {
  "kernelspec": {
   "display_name": "Python 3",
   "language": "python",
   "name": "python3"
  },
  "language_info": {
   "codemirror_mode": {
    "name": "ipython",
    "version": 3
   },
   "file_extension": ".py",
   "mimetype": "text/x-python",
   "name": "python",
   "nbconvert_exporter": "python",
   "pygments_lexer": "ipython3",
   "version": "3.12.4"
  }
 },
 "nbformat": 4,
 "nbformat_minor": 2
}
