{
 "cells": [
  {
   "cell_type": "code",
   "execution_count": 4,
   "metadata": {},
   "outputs": [
    {
     "name": "stdout",
     "output_type": "stream",
     "text": [
      "\n",
      "          +-----+-----+-----+\n",
      "          |  a  |  b  |  c  |\n",
      "      _______________________\n",
      "      | 1 |  -  |  -  |  -  |\n",
      "      _______________________\n",
      "      | 2 |  -  |  -  |  -  |\n",
      "      _______________________\n",
      "      | 3 |  -  |  -  |  -  |\n",
      "      +---+-----+-----+-----+\n",
      "      \n",
      "['a1']\n",
      "a1\n"
     ]
    },
    {
     "data": {
      "text/plain": [
       "False"
      ]
     },
     "execution_count": 4,
     "metadata": {},
     "output_type": "execute_result"
    }
   ],
   "source": [
    "#tablero\n",
    "a1='-'#####hay que hacer un diccionario \n",
    "b1='-'\n",
    "c1='-'\n",
    "a2='-'\n",
    "a2='-'\n",
    "b2='-'\n",
    "c2='-'\n",
    "a3='-'\n",
    "b3='-'\n",
    "c3='-'\n",
    "tablero = f'''\n",
    "          +-----+-----+-----+\n",
    "          |  a  |  b  |  c  |\n",
    "      _______________________\n",
    "      | 1 |  {a1}  |  {b1}  |  {c1}  |\n",
    "      _______________________\n",
    "      | 2 |  {a2}  |  {b2}  |  {c2}  |\n",
    "      _______________________\n",
    "      | 3 |  {a3}  |  {b3}  |  {c3}  |\n",
    "      +---+-----+-----+-----+\n",
    "      '''\n",
    "print(tablero)\n",
    "\n",
    "#jugadores\n",
    "# X\n",
    "# O\n",
    "#***************PDT : Cada jugador tiene 3 fichas y se ponen y se quitan???\n",
    "\n",
    "# Condiciones de win. Para cada ficha:\n",
    "#     Si len (a1,b1,c1)=3 win,\n",
    "#     Si len (a2,b2,c2)=3 win,\n",
    "#     Si len (a3,b3,c3)=3 win,\n",
    "#     Si len (a1,a2,a3)=3 win,\n",
    "#     Si len (c1,c2,c3)=3 win,\n",
    "#     Si len (a1,b2,c3)=3 win,\n",
    "#     Si len (a3,B2.C1)=3 win,\n",
    "\n",
    "#Solicitar las coordenadas:\n",
    "\n",
    "#dame la coordenada letra (a,b,c)=letra_x o letra_y\n",
    "#dame la coordenada número (1,2,3)=numero_x o numero_y\n",
    "letra_x='a'#********poner un input************\n",
    "numero_x='1'\n",
    "\n",
    "nombre_variable_x = [letra_x + numero_x]#imprime una lista con un solo valor\n",
    "print(nombre_variable_x)\n",
    "print(nombre_variable_x[0])#accedemos al primer valor por su índice y es el nombre de la variable con la que queremos interactuar\n",
    "#*************hacer lo mismo con el jugador O ***********************\n",
    " \n",
    "#comprobar que la coordenada está vacía\n",
    "nombre_variable_x[0] == '-'\n",
    "\n",
    "#cambiar el valor de la coordenada por O o X\n",
    "#comprobar el tablero para ver si hay linea\n",
    "\n",
    "\n",
    "#coordenada = variable; el valor será O o X según sea el jugador\n",
    "\n"
   ]
  }
 ],
 "metadata": {
  "kernelspec": {
   "display_name": "Python 3",
   "language": "python",
   "name": "python3"
  },
  "language_info": {
   "codemirror_mode": {
    "name": "ipython",
    "version": 3
   },
   "file_extension": ".py",
   "mimetype": "text/x-python",
   "name": "python",
   "nbconvert_exporter": "python",
   "pygments_lexer": "ipython3",
   "version": "3.12.4"
  }
 },
 "nbformat": 4,
 "nbformat_minor": 2
}
