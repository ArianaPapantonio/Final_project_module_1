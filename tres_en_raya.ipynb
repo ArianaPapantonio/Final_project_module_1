{
 "cells": [
  {
   "cell_type": "code",
   "execution_count": 9,
   "metadata": {},
   "outputs": [
    {
     "ename": "SyntaxError",
     "evalue": "invalid syntax (2495823181.py, line 42)",
     "output_type": "error",
     "traceback": [
      "\u001b[0;36m  Cell \u001b[0;32mIn[9], line 42\u001b[0;36m\u001b[0m\n\u001b[0;31m    print(f' Jugador {huecos_tablero['a1']} ¡¡¡Has ganado!!!') #cualquiera de las coordenadas. Vas a ser todas iguales\u001b[0m\n\u001b[0m                                      ^\u001b[0m\n\u001b[0;31mSyntaxError\u001b[0m\u001b[0;31m:\u001b[0m invalid syntax\n"
     ]
    }
   ],
   "source": [
    "#tablero\n",
    "huecos_tablero = {'a1':'-', 'b1':'-', 'c1':'-', 'a2':'-', 'b2':'-', 'c2':'-', 'a3':'-', 'b3':'-', 'c3':'-'} \n",
    "\n",
    "tablero = f'''\n",
    "          +-----+-----+-----+\n",
    "          |  a  |  b  |  c  |\n",
    "      _______________________\n",
    "      | 1 |  {huecos_tablero['a1']}  |  {huecos_tablero['b1']}  |  {huecos_tablero['c1']}  |\n",
    "      _______________________\n",
    "      | 2 |  {huecos_tablero['a2']}  |  {huecos_tablero['b2']}  |  {huecos_tablero['c2']}  |\n",
    "      _______________________\n",
    "      | 3 |  {huecos_tablero['a3']}  |  {huecos_tablero['b3']}  |  {huecos_tablero['c3']}  |\n",
    "      +---+-----+-----+-----+\n",
    "      '''\n",
    "print(tablero)\n",
    "\n",
    "for coordenada in huecos_tablero:\n",
    "# Juega X   \n",
    " \n",
    "    coordenada_X = input('JUGADOR X, Dime la coordenada para tu ficha')\n",
    "    while huecos_tablero[coordenada_X] != '-': #comprobando que el hueco está disponible\n",
    "        print ('Ese hueco no está disponible')\n",
    "        break\n",
    "    else:    \n",
    "        print('El hueco está disponible')#si lo está, cambia '-' por X\n",
    "        huecos_tablero[coordenada_X]= 'X'\n",
    "\n",
    "# Juega O\n",
    "    coordenada_O = input('JUGADOR O, Dime la coordenada para tu ficha')#igual con el jugador X\n",
    "    while huecos_tablero[coordenada_O] != '-':\n",
    "        print ('Ese hueco no está disponible')\n",
    "        break\n",
    "    else:\n",
    "        print('El hueco está disponible')\n",
    "        huecos_tablero[coordenada_O] = 'O'\n",
    "        break\n",
    "\n",
    "# Comprobando win\n",
    "\n",
    "if len (set(['a1','b1','c1']))==3 and ['a1','b1','c1'] != ['-','-','-']:#hay que excluir '-'\n",
    "    print(len(set(['a1','b1','c1'])))\n",
    "    print(f' Jugador {huecos_tablero['a1']} ¡¡¡Has ganado!!!') #cualquiera de las coordenadas. Vas a ser todas iguales\n",
    "   \n",
    "elif len (set(['a2','b2','c2']))==3 and ['a2','b2','c2'] != ['-','-','-']:\n",
    "    print(len(set(['a2','b2','c2'])))\n",
    "    print(f' Jugador {huecos_tablero['a2']} ¡¡¡Has ganado!!!') \n",
    "\n",
    "elif len (set(['a3','b3','c3']))==3 and ['a3','b3','c3'] != ['-','-','-']:\n",
    "    print(len(set(['a3','b3','c3'])))\n",
    "    print(f' Jugador {huecos_tablero['a3']} ¡¡¡Has ganado!!!') \n",
    "\n",
    "elif len (set(['a1','a2','a3']))==3 and ['a1','a2','a3'] != ['-','-','-']:\n",
    "    print(len(set(['a1','a2','a3'])))\n",
    "    print(f' Jugador {huecos_tablero['a1']} ¡¡¡Has ganado!!!') \n",
    "\n",
    "elif len (set(['c1','c2','c3']))==3 and ['c1','c2','c3'] != ['-','-','-']:\n",
    "    print(len(set(['c1','c2','c3'])))\n",
    "    print(f' Jugador {huecos_tablero['c1']} ¡¡¡Has ganado!!!') \n",
    "\n",
    "elif len (set(['a1','b2','c3']))==3 and ['a1','b2','c3'] != ['-','-','-']:\n",
    "    print(len(set(['a1','b2','c3'])))\n",
    "    print(f' Jugador {huecos_tablero['a1']} ¡¡¡Has ganado!!!') \n",
    "\n",
    "elif len (set(['a1','b2','c3']))==3 and ['a1','b2','c3'] != ['-','-','-']:\n",
    "    print(len(set(['a3','b2','c1'])))\n",
    "    print(f' Jugador {huecos_tablero['a3']} ¡¡¡Has ganado!!!') \n",
    "\n",
    "else:\n",
    "\n",
    "    print(huecos_tablero)\n",
    "        \n",
    "  \n",
    "\n"
   ]
  }
 ],
 "metadata": {
  "kernelspec": {
   "display_name": "Python 3",
   "language": "python",
   "name": "python3"
  },
  "language_info": {
   "codemirror_mode": {
    "name": "ipython",
    "version": 3
   },
   "file_extension": ".py",
   "mimetype": "text/x-python",
   "name": "python",
   "nbconvert_exporter": "python",
   "pygments_lexer": "ipython3",
   "version": "3.8.10"
  }
 },
 "nbformat": 4,
 "nbformat_minor": 2
}
