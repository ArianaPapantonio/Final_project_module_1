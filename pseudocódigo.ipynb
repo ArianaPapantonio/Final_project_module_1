{
 "cells": [
  {
   "cell_type": "code",
   "execution_count": null,
   "metadata": {},
   "outputs": [],
   "source": [
    "print(\"Piedra, Papel o Tijera\")\n",
    "print(\"______________________\")\n",
    "print(\"Bienvenido al juego Piedra, Papel o Tijera\")\n",
    "print(\"Reglas del juego....\"\n",
    "      \"número de intentos? por puntos?\")\n",
    "\n",
    "print(\"Elige: piedra, papel o tijera\")\n",
    "elección = input(\"elige piedra, papel o tijera\")\n",
    "# crear un while que se detenga cuando uno de los 2 llegue a 3?, \n",
    "# sería while partidas ganadas =! 3?\n",
    "#variable partida ganada += 1\n"
   ]
  },
  {
   "cell_type": "code",
   "execution_count": null,
   "metadata": {},
   "outputs": [],
   "source": [
    "# PREGUNTAS Y RESPUESTAS \n",
    "# crear diccionario con preguntas y respuestas.\n",
    "# import random// función random.choice\n",
    "# while respuestas acertadas == 3???\n",
    "# input con preguntas random \n",
    "# preguntas acertadas = pregunta random == respuesta jugador (True)\n",
    "# bucle preguntas acertadas += 1 (termina el bucle en 3)\n",
    "# print de número de preguntas realizadas y número de preguntas acertadas??"
   ]
  }
 ],
 "metadata": {
  "kernelspec": {
   "display_name": "Python 3",
   "language": "python",
   "name": "python3"
  },
  "language_info": {
   "name": "python",
   "version": "3.12.4"
  }
 },
 "nbformat": 4,
 "nbformat_minor": 2
}
