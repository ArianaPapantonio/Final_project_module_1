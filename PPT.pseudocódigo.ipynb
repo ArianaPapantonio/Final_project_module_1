{
 "cells": [
  {
   "cell_type": "code",
   "execution_count": 1,
   "metadata": {},
   "outputs": [],
   "source": [
    "# Hacer un import random (para que el sistema elija una opción aleatoria entre Piedra, Papel o Tijera)\n",
    "\n",
    "import random"
   ]
  },
  {
   "cell_type": "code",
   "execution_count": 2,
   "metadata": {},
   "outputs": [],
   "source": [
    "# Definir puntos objetivos mediante variable y hacer otras dos variables para contabilizar los puntos del usuario y del ordenador: \n",
    "\n",
    "obj_puntos = 3 \n",
    "puntos_usuario = 0\n",
    "puntos_ordenador = 0"
   ]
  },
  {
   "cell_type": "code",
   "execution_count": 3,
   "metadata": {},
   "outputs": [
    {
     "name": "stdout",
     "output_type": "stream",
     "text": [
      "\n"
     ]
    }
   ],
   "source": [
    "# Preguntar al jugador mediante input cuál es la opción que elige:\n",
    "\n",
    "respuesta_usuario = input('Escoge una opción: Piedra, Papel o Tijera')\n",
    "print(respuesta_usuario)"
   ]
  },
  {
   "cell_type": "code",
   "execution_count": 4,
   "metadata": {},
   "outputs": [
    {
     "name": "stdout",
     "output_type": "stream",
     "text": [
      "Tijera\n"
     ]
    }
   ],
   "source": [
    "# Preguntar al ordenador qué opcion elige mediante random choice de la lista de variable opciones:\n",
    "\n",
    "opciones = ['Piedra', 'Papel', 'Tijera']\n",
    "respuesta_ordenador = random.choice(opciones)\n",
    "print(respuesta_ordenador)"
   ]
  },
  {
   "cell_type": "code",
   "execution_count": 5,
   "metadata": {},
   "outputs": [
    {
     "name": "stdout",
     "output_type": "stream",
     "text": [
      "Has ganado esta ronda. Tienes 1 puntos\n",
      "Has perdido esta ronda\n",
      "Has perdido esta ronda\n",
      "¡Es un empate!\n",
      "Has ganado esta ronda. Tienes 2 puntos\n",
      "Has perdido esta ronda\n",
      "Lo siento. Has perdido el juego\n"
     ]
    }
   ],
   "source": [
    "#crear bucle while para llevar a cabo el juego \n",
    "\n",
    "while True:\n",
    "    \n",
    "    respuesta_usuario = input('Escoge una opción: Piedra, Papel o Tijera')\n",
    "\n",
    "    if respuesta_usuario == respuesta_ordenador: \n",
    "        print('¡Es un empate!')\n",
    "\n",
    "    if respuesta_usuario == 'Piedra' and respuesta_ordenador == 'Papel':\n",
    "        print('Has perdido esta ronda')\n",
    "        puntos_ordenador += 1\n",
    "    elif respuesta_usuario == 'Piedra' and respuesta_ordenador == 'Tijera': \n",
    "        puntos_usuario += 1\n",
    "        print(f'Has ganado esta ronda. Tienes {puntos_usuario} punto/s')\n",
    "    \n",
    "    if respuesta_usuario == 'Papel' and respuesta_ordenador == 'Tijera': \n",
    "        print('Has perdido esta ronda')\n",
    "        puntos_ordenador += 1\n",
    "    elif respuesta_usuario == 'Papel' and respuesta_ordenador == 'Piedra': \n",
    "        puntos_usuario += 1\n",
    "        print(f'Has ganado esta ronda. Tienes {puntos_usuario} punto/s')\n",
    "        \n",
    "    if respuesta_usuario == 'Tijera' and respuesta_ordenador == 'Piedra': \n",
    "        print('Has perdido esta ronda')\n",
    "        puntos_ordenador += 1\n",
    "    elif respuesta_usuario == 'Tijera' and respuesta_ordenador == 'Papel': \n",
    "        puntos_usuario += 1\n",
    "        print(f'Has ganado esta ronda. Tienes {puntos_usuario} punto/s') \n",
    "\n",
    "#crear bucle para ver cuántos puntos tiene el jugador hasta que llegue al objetivo y que el bucle pare una vez que haya un ganador  : \n",
    "\n",
    "    else:\n",
    "        if puntos_ordenador == 3: \n",
    "            print('Lo siento. Has perdido el juego') \n",
    "            break\n",
    "        elif puntos_usuario == 3:\n",
    "            print('¡Enhorabuena! Has ganado el juego!')\n",
    "            break\n"
   ]
  }
 ],
 "metadata": {
  "kernelspec": {
   "display_name": "Python 3",
   "language": "python",
   "name": "python3"
  },
  "language_info": {
   "codemirror_mode": {
    "name": "ipython",
    "version": 3
   },
   "file_extension": ".py",
   "mimetype": "text/x-python",
   "name": "python",
   "nbconvert_exporter": "python",
   "pygments_lexer": "ipython3",
   "version": "3.11.9"
  }
 },
 "nbformat": 4,
 "nbformat_minor": 2
}
