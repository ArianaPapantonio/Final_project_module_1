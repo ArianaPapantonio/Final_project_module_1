{
 "cells": [
  {
   "cell_type": "code",
   "execution_count": 23,
   "metadata": {},
   "outputs": [],
   "source": [
    "a = '''\n",
    "      +---+\n",
    "      |   |\n",
    "          |\n",
    "          |\n",
    "          |\n",
    "          |\n",
    "          |\n",
    "    ========='''\n"
   ]
  },
  {
   "cell_type": "code",
   "execution_count": 24,
   "metadata": {},
   "outputs": [
    {
     "name": "stdout",
     "output_type": "stream",
     "text": [
      "\n",
      "      +---+\n",
      "      |   |\n",
      "          |\n",
      "          |\n",
      "          |\n",
      "          |\n",
      "          |\n",
      "    =========\n"
     ]
    }
   ],
   "source": [
    "print(a)"
   ]
  },
  {
   "cell_type": "code",
   "execution_count": 25,
   "metadata": {},
   "outputs": [],
   "source": [
    "b = '''\n",
    "      +---+\n",
    "      |   |\n",
    "      O   |\n",
    "          |\n",
    "          |\n",
    "          |\n",
    "          |\n",
    "    ========='''\n",
    "\n"
   ]
  },
  {
   "cell_type": "code",
   "execution_count": 26,
   "metadata": {},
   "outputs": [
    {
     "name": "stdout",
     "output_type": "stream",
     "text": [
      "\n",
      "      +---+\n",
      "      |   |\n",
      "      O   |\n",
      "          |\n",
      "          |\n",
      "          |\n",
      "          |\n",
      "    =========\n"
     ]
    }
   ],
   "source": [
    "print(b)"
   ]
  },
  {
   "cell_type": "code",
   "execution_count": 27,
   "metadata": {},
   "outputs": [],
   "source": [
    "c = '''\n",
    "      +---+\n",
    "      |   |\n",
    "      O   |\n",
    "      |   |\n",
    "      |   |\n",
    "          |\n",
    "          |\n",
    "    ========='''\n"
   ]
  },
  {
   "cell_type": "code",
   "execution_count": 28,
   "metadata": {},
   "outputs": [
    {
     "name": "stdout",
     "output_type": "stream",
     "text": [
      "\n",
      "      +---+\n",
      "      |   |\n",
      "      O   |\n",
      "      |   |\n",
      "      |   |\n",
      "          |\n",
      "          |\n",
      "    =========\n"
     ]
    }
   ],
   "source": [
    "print(c)"
   ]
  },
  {
   "cell_type": "code",
   "execution_count": 29,
   "metadata": {},
   "outputs": [],
   "source": [
    "d = '''\n",
    "      +---+\n",
    "      |   |\n",
    "      O   |\n",
    "     /|   |\n",
    "      |   |\n",
    "          |\n",
    "          |\n",
    "    ========='''"
   ]
  },
  {
   "cell_type": "code",
   "execution_count": 30,
   "metadata": {},
   "outputs": [
    {
     "name": "stdout",
     "output_type": "stream",
     "text": [
      "\n",
      "      +---+\n",
      "      |   |\n",
      "      O   |\n",
      "     /|   |\n",
      "      |   |\n",
      "          |\n",
      "          |\n",
      "    =========\n"
     ]
    }
   ],
   "source": [
    "print(d)"
   ]
  },
  {
   "cell_type": "code",
   "execution_count": 31,
   "metadata": {},
   "outputs": [
    {
     "name": "stderr",
     "output_type": "stream",
     "text": [
      "<>:1: SyntaxWarning: invalid escape sequence '\\ '\n",
      "<>:1: SyntaxWarning: invalid escape sequence '\\ '\n",
      "/tmp/ipykernel_18688/168730147.py:1: SyntaxWarning: invalid escape sequence '\\ '\n",
      "  e = '''\n"
     ]
    }
   ],
   "source": [
    "e = '''\n",
    "      +---+\n",
    "      |   |\n",
    "      O   |\n",
    "     /|\\  |\n",
    "      |   |\n",
    "          |\n",
    "          |\n",
    "    ========='''"
   ]
  },
  {
   "cell_type": "code",
   "execution_count": 32,
   "metadata": {},
   "outputs": [
    {
     "name": "stdout",
     "output_type": "stream",
     "text": [
      "\n",
      "      +---+\n",
      "      |   |\n",
      "      O   |\n",
      "     /|\\  |\n",
      "      |   |\n",
      "          |\n",
      "          |\n",
      "    =========\n"
     ]
    }
   ],
   "source": [
    "print(e)"
   ]
  },
  {
   "cell_type": "code",
   "execution_count": 33,
   "metadata": {},
   "outputs": [
    {
     "name": "stderr",
     "output_type": "stream",
     "text": [
      "<>:1: SyntaxWarning: invalid escape sequence '\\ '\n",
      "<>:1: SyntaxWarning: invalid escape sequence '\\ '\n",
      "/tmp/ipykernel_18688/3613663732.py:1: SyntaxWarning: invalid escape sequence '\\ '\n",
      "  f = '''\n"
     ]
    }
   ],
   "source": [
    "f = '''\n",
    "      +---+\n",
    "      |   |\n",
    "      O   |\n",
    "     /|\\  |\n",
    "      |   |\n",
    "     /    |\n",
    "          |\n",
    "    ========='''"
   ]
  },
  {
   "cell_type": "code",
   "execution_count": 34,
   "metadata": {},
   "outputs": [
    {
     "name": "stdout",
     "output_type": "stream",
     "text": [
      "\n",
      "      +---+\n",
      "      |   |\n",
      "      O   |\n",
      "     /|\\  |\n",
      "      |   |\n",
      "     /    |\n",
      "          |\n",
      "    =========\n"
     ]
    }
   ],
   "source": [
    "print(f)"
   ]
  },
  {
   "cell_type": "code",
   "execution_count": 35,
   "metadata": {},
   "outputs": [
    {
     "name": "stderr",
     "output_type": "stream",
     "text": [
      "<>:1: SyntaxWarning: invalid escape sequence '\\ '\n",
      "<>:1: SyntaxWarning: invalid escape sequence '\\ '\n",
      "/tmp/ipykernel_18688/3488292933.py:1: SyntaxWarning: invalid escape sequence '\\ '\n",
      "  g = '''\n"
     ]
    }
   ],
   "source": [
    "g = '''\n",
    "      +---+\n",
    "      |   |\n",
    "      O   |\n",
    "    ===== |\n",
    "     /|\\  |\n",
    "      |   |\n",
    "     / \\  |\n",
    "          |\n",
    "    ========='''"
   ]
  },
  {
   "cell_type": "code",
   "execution_count": 36,
   "metadata": {},
   "outputs": [
    {
     "name": "stdout",
     "output_type": "stream",
     "text": [
      "\n",
      "      +---+\n",
      "      |   |\n",
      "      O   |\n",
      "    ===== |\n",
      "     /|\\  |\n",
      "      |   |\n",
      "     / \\  |\n",
      "          |\n",
      "    =========\n"
     ]
    }
   ],
   "source": [
    "print(g)"
   ]
  },
  {
   "cell_type": "markdown",
   "metadata": {},
   "source": [
    "# Testeado cuando NO se repiten letras dentro de la palabra\n",
    "# Definición de variables\n",
    "palabra_secreta = \"sec\" #hacer esto con random choice (lista palabras)\n",
    "vidas_usuario = 2 \n",
    "# Necesitamos una palabra formada con * con el mismo número de letras que la palabra secreta\n",
    "palabra_oculta = '_' * len(palabra_secreta)\n",
    "print(\"La palabra tiene\", len(palabra_secreta), \"letras.\")\n",
    "# Las condiciones para permanecer en el bucle es que la palabra oculta aún tenga * y que el usuario tenga más de 0 vidas. Si una sola no se cumple, salimos del bucle\n",
    "while \"_\" in palabra_oculta and vidas_usuario > 0:\n",
    "    letra_usuario = input(f\"Indica una letra de la {palabra_oculta}\")\n",
    "    print(letra_usuario)\n",
    "    #aqui poner el for en el que se siga for i \n",
    "    if letra_usuario in palabra_secreta:\n",
    "        #Necesito sustituir el * en palabra oculta por la letra del usuario en la posición que ocupa esa letra en la palabra secreta\n",
    "        posicion_letra = palabra_secreta.find(letra_usuario.lower()) # Protejo la posibilidad de que el usuario utilice Mayus\n",
    "        print(f\"Posicion letra es {posicion_letra}\")\n",
    "       # Pasar palabra oculta a lista, sustituir el valor del usuario en la posicion que corresponde (por el indice), volver a convertirlo en un string y mostrarlo\n",
    "        palabra_oculta_lista = list(palabra_oculta)\n",
    "        print(f\"la lista de palabra oculta es {palabra_oculta_lista}\")\n",
    "        # Añado la letra del usuario en la posición donde corresponde\n",
    "        palabra_oculta_lista[posicion_letra] = letra_usuario\n",
    "        print(f\"la lista de palabra oculta tras añadir la letra del usuario es {palabra_oculta_lista}\")\n",
    "        # Paso la palabra oculta a string para mostrarla al usuario -> join y no usamos nada como delimitador, porque quiero una cadena de texto\n",
    "        palabra_oculta = \"\".join(palabra_oculta_lista)\n",
    "        print(f\"La palabra oculta es {palabra_oculta}\")\n",
    "    else:\n",
    "        vidas_usuario -= 1\n",
    "        print(f\"Has fallado, vuelve a intentarlo. Te queda {vidas_usuario} vidas\")"
   ]
  },
  {
   "cell_type": "code",
   "execution_count": 37,
   "metadata": {},
   "outputs": [],
   "source": [
    "import random"
   ]
  },
  {
   "cell_type": "code",
   "execution_count": 38,
   "metadata": {},
   "outputs": [
    {
     "data": {
      "text/plain": [
       "[1, 2, 3, 4, 5]"
      ]
     },
     "execution_count": 38,
     "metadata": {},
     "output_type": "execute_result"
    }
   ],
   "source": [
    "#inicio solución ahorcado (si se repiten las letras): \n",
    "lista = [1,2,\"hola\",4,5]\n",
    "for i in range(len(lista)): # nos generamos un range con la longitud de la lista\n",
    "    if lista[i] == \"hola\": #en vez de iterar por los elementos de la lista, como lo anterior genero un indice, ahora accedemos a cada elemnto de la lista por su indice. \n",
    "        lista[i] = 3 #le hacemos una asignación directa (este codigo solo se ejecuta cuando aparezca el 'hola'). \n",
    "lista\n"
   ]
  },
  {
   "cell_type": "code",
   "execution_count": 39,
   "metadata": {},
   "outputs": [
    {
     "name": "stdout",
     "output_type": "stream",
     "text": [
      "jupiter\n",
      "La palabra es:  _  _  _  _  _  _  _ \n"
     ]
    },
    {
     "ename": "KeyboardInterrupt",
     "evalue": "Interrupted by user",
     "output_type": "error",
     "traceback": [
      "\u001b[0;31m---------------------------------------------------------------------------\u001b[0m",
      "\u001b[0;31mKeyboardInterrupt\u001b[0m                         Traceback (most recent call last)",
      "Cell \u001b[0;32mIn[39], line 20\u001b[0m\n\u001b[1;32m     17\u001b[0m \u001b[38;5;66;03m#bucle se para cuando ya haya adivinado (en caso que no haya mas guiones bajos) o cuando las vidas del usuario se hayan agotado: \u001b[39;00m\n\u001b[1;32m     18\u001b[0m \u001b[38;5;28;01mwhile\u001b[39;00m \u001b[38;5;124m\"\u001b[39m\u001b[38;5;124m _ \u001b[39m\u001b[38;5;124m\"\u001b[39m \u001b[38;5;129;01min\u001b[39;00m palabra_oculta \u001b[38;5;129;01mor\u001b[39;00m vidas_usuario \u001b[38;5;241m>\u001b[39m \u001b[38;5;241m0\u001b[39m:\n\u001b[1;32m     19\u001b[0m     \u001b[38;5;66;03m#imprimir letra usuario: \u001b[39;00m\n\u001b[0;32m---> 20\u001b[0m     letra_usuario \u001b[38;5;241m=\u001b[39m \u001b[38;5;28minput\u001b[39m(\u001b[38;5;124mf\u001b[39m\u001b[38;5;124m\"\u001b[39m\u001b[38;5;124mIndica una letra de la \u001b[39m\u001b[38;5;132;01m{\u001b[39;00mpalabra_oculta\u001b[38;5;132;01m}\u001b[39;00m\u001b[38;5;124m\"\u001b[39m)\u001b[38;5;241m.\u001b[39mlower()\n\u001b[1;32m     21\u001b[0m     \u001b[38;5;28mprint\u001b[39m(letra_usuario)\n\u001b[1;32m     23\u001b[0m     \u001b[38;5;66;03m#añadimos for en caso de que haya letras repetidas\u001b[39;00m\n",
      "File \u001b[0;32m~/anaconda3/lib/python3.12/site-packages/ipykernel/kernelbase.py:1262\u001b[0m, in \u001b[0;36mKernel.raw_input\u001b[0;34m(self, prompt)\u001b[0m\n\u001b[1;32m   1260\u001b[0m     msg \u001b[38;5;241m=\u001b[39m \u001b[38;5;124m\"\u001b[39m\u001b[38;5;124mraw_input was called, but this frontend does not support input requests.\u001b[39m\u001b[38;5;124m\"\u001b[39m\n\u001b[1;32m   1261\u001b[0m     \u001b[38;5;28;01mraise\u001b[39;00m StdinNotImplementedError(msg)\n\u001b[0;32m-> 1262\u001b[0m \u001b[38;5;28;01mreturn\u001b[39;00m \u001b[38;5;28mself\u001b[39m\u001b[38;5;241m.\u001b[39m_input_request(\n\u001b[1;32m   1263\u001b[0m     \u001b[38;5;28mstr\u001b[39m(prompt),\n\u001b[1;32m   1264\u001b[0m     \u001b[38;5;28mself\u001b[39m\u001b[38;5;241m.\u001b[39m_parent_ident[\u001b[38;5;124m\"\u001b[39m\u001b[38;5;124mshell\u001b[39m\u001b[38;5;124m\"\u001b[39m],\n\u001b[1;32m   1265\u001b[0m     \u001b[38;5;28mself\u001b[39m\u001b[38;5;241m.\u001b[39mget_parent(\u001b[38;5;124m\"\u001b[39m\u001b[38;5;124mshell\u001b[39m\u001b[38;5;124m\"\u001b[39m),\n\u001b[1;32m   1266\u001b[0m     password\u001b[38;5;241m=\u001b[39m\u001b[38;5;28;01mFalse\u001b[39;00m,\n\u001b[1;32m   1267\u001b[0m )\n",
      "File \u001b[0;32m~/anaconda3/lib/python3.12/site-packages/ipykernel/kernelbase.py:1305\u001b[0m, in \u001b[0;36mKernel._input_request\u001b[0;34m(self, prompt, ident, parent, password)\u001b[0m\n\u001b[1;32m   1302\u001b[0m \u001b[38;5;28;01mexcept\u001b[39;00m \u001b[38;5;167;01mKeyboardInterrupt\u001b[39;00m:\n\u001b[1;32m   1303\u001b[0m     \u001b[38;5;66;03m# re-raise KeyboardInterrupt, to truncate traceback\u001b[39;00m\n\u001b[1;32m   1304\u001b[0m     msg \u001b[38;5;241m=\u001b[39m \u001b[38;5;124m\"\u001b[39m\u001b[38;5;124mInterrupted by user\u001b[39m\u001b[38;5;124m\"\u001b[39m\n\u001b[0;32m-> 1305\u001b[0m     \u001b[38;5;28;01mraise\u001b[39;00m \u001b[38;5;167;01mKeyboardInterrupt\u001b[39;00m(msg) \u001b[38;5;28;01mfrom\u001b[39;00m \u001b[38;5;28;01mNone\u001b[39;00m\n\u001b[1;32m   1306\u001b[0m \u001b[38;5;28;01mexcept\u001b[39;00m \u001b[38;5;167;01mException\u001b[39;00m:\n\u001b[1;32m   1307\u001b[0m     \u001b[38;5;28mself\u001b[39m\u001b[38;5;241m.\u001b[39mlog\u001b[38;5;241m.\u001b[39mwarning(\u001b[38;5;124m\"\u001b[39m\u001b[38;5;124mInvalid Message:\u001b[39m\u001b[38;5;124m\"\u001b[39m, exc_info\u001b[38;5;241m=\u001b[39m\u001b[38;5;28;01mTrue\u001b[39;00m)\n",
      "\u001b[0;31mKeyboardInterrupt\u001b[0m: Interrupted by user"
     ]
    }
   ],
   "source": [
    "\n",
    "#inicio ahorcado \n",
    "\n",
    "#crear lista de palabras secretas\n",
    "palabras_secretas = ['gato', 'coche', 'jupiter']\n",
    "\n",
    "#random para que el ordenador elija una palabra\n",
    "palabra_secreta_aleatoria = random.choice(palabras_secretas)\n",
    "print(palabra_secreta_aleatoria)\n",
    "\n",
    "#contador de vidas restantes (por cada parte del cuerpo)\n",
    "vidas_usuario = 6\n",
    "\n",
    "#cambiar palabra por guiones bajos\n",
    "palabra_oculta = ' _ ' * len(palabra_secreta_aleatoria)\n",
    "print(f'La palabra es: {palabra_oculta}')\n",
    "\n",
    "#bucle se para cuando ya haya adivinado (en caso que no haya mas guiones bajos) o cuando las vidas del usuario se hayan agotado: \n",
    "while \" _ \" in palabra_oculta or vidas_usuario > 0:\n",
    "    #imprimir letra usuario: \n",
    "    letra_usuario = input(f\"Indica una letra de la {palabra_oculta}\").lower()\n",
    "    print(letra_usuario)\n",
    "    \n",
    "    #añadimos for en caso de que haya letras repetidas\n",
    "    for letra in palabra_secreta_aleatoria: \n",
    "        if letra_usuario in palabra_secreta_aleatoria: \n",
    "           \n",
    "            #transformamos palabra a lista: \n",
    "            lista_palabra_oculta = list(palabra_oculta)  \n",
    "           \n",
    "            #Necesito sustituir el \" _ \" en palabra oculta por la letra del usuario en la posición que ocupa esa letra en la palabra secreta\n",
    "            posicion_letra = palabra_secreta_aleatoria.find(letra_usuario.lower()) # Protejo la posibilidad de que el usuario utilice Mayus\n",
    "            print(f\"Posicion letra es {posicion_letra}\") #Este print luego se elimina (es solo para saber la posición)\n",
    "                    \n",
    "            # Añado la letra del usuario en la posición donde corresponde\n",
    "            lista_palabra_oculta[posicion_letra] = letra_usuario \n",
    "           \n",
    "            # Paso la palabra oculta a string para mostrarla al usuario -> join y no usamos nada como delimitador, porque quiero una cadena de texto\n",
    "            palabra_oculta = \"\".join(lista_palabra_oculta)\n",
    "            print(f\"la lista de palabra oculta tras añadir la letra del usuario es {palabra_oculta}\")\n",
    "            break "
   ]
  },
  {
   "cell_type": "code",
   "execution_count": 8,
   "metadata": {},
   "outputs": [],
   "source": [
    "# #inicio solución ahorcado (si se repiten las letras): \n",
    "\n",
    "# lista = [1,2,\"hola\",4,5]\n",
    "# for i in range(len(lista)): # nos generamos un range con la longitud de la lista\n",
    "#     if lista[i] == \"hola\": #en vez de iterar por los elementos de la lista, como lo anterior genero un indice, ahora accedemos a cada elemnto de la lista por su indice. \n",
    "#         lista[i] = 3 #le hacemos una asignación directa (este codigo solo se ejecuta cuando aparezca el 'hola'). \n",
    "# lista\n",
    "\n",
    "\n"
   ]
  },
  {
   "cell_type": "code",
   "execution_count": null,
   "metadata": {},
   "outputs": [],
   "source": [
    " #Necesito sustituir el \" _ \" en palabra oculta por la letra del usuario en la posición que ocupa esa letra en la palabra secreta\n",
    "            posicion_letra = palabra_secreta_aleatoria.find(letra_usuario.lower()) # Protejo la posibilidad de que el usuario utilice Mayus\n",
    "            print(f\"Posicion letra es {posicion_letra}\") #Este print luego se elimina (es solo para saber la posición)\n",
    "                    \n",
    "            # Añado la letra del usuario en la posición donde corresponde\n",
    "            lista_palabra_oculta[posicion_letra] = letra_usuario \n",
    "           \n",
    "            # Paso la palabra oculta a string para mostrarla al usuario -> join y no usamos nada como delimitador, porque quiero una cadena de texto\n",
    "            palabra_oculta = \"\".join(lista_palabra_oculta)\n",
    "            print(f\"la lista de palabra oculta tras añadir la letra del usuario es {palabra_oculta}\")\n",
    "            break "
   ]
  },
  {
   "cell_type": "code",
   "execution_count": 20,
   "metadata": {},
   "outputs": [
    {
     "data": {
      "text/plain": [
       "str"
      ]
     },
     "execution_count": 20,
     "metadata": {},
     "output_type": "execute_result"
    }
   ],
   "source": [
    "type(palabra_secreta_aleatoria)"
   ]
  },
  {
   "cell_type": "code",
   "execution_count": 17,
   "metadata": {},
   "outputs": [
    {
     "name": "stdout",
     "output_type": "stream",
     "text": [
      "[' ', '_', ' ', ' ', '_', ' ', ' ', '_', ' ', ' ', '_', ' ', ' ', '_', ' ']\n"
     ]
    },
    {
     "ename": "AttributeError",
     "evalue": "'list' object has no attribute 'find'",
     "output_type": "error",
     "traceback": [
      "\u001b[1;31m---------------------------------------------------------------------------\u001b[0m",
      "\u001b[1;31mAttributeError\u001b[0m                            Traceback (most recent call last)",
      "Cell \u001b[1;32mIn[17], line 10\u001b[0m\n\u001b[0;32m      7\u001b[0m lista_coche \u001b[38;5;241m=\u001b[39m \u001b[38;5;28mlist\u001b[39m(palabra_oculta)\n\u001b[0;32m      8\u001b[0m \u001b[38;5;28mprint\u001b[39m(lista_coche)\n\u001b[1;32m---> 10\u001b[0m posicion \u001b[38;5;241m=\u001b[39m \u001b[43mlista_coche\u001b[49m\u001b[38;5;241;43m.\u001b[39;49m\u001b[43mfind\u001b[49m(letra_nosotras) \n\u001b[0;32m     12\u001b[0m \u001b[38;5;28;01mif\u001b[39;00m letra_nosotras \u001b[38;5;129;01min\u001b[39;00m lista_coche: \n\u001b[0;32m     13\u001b[0m     lista_coche\n",
      "\u001b[1;31mAttributeError\u001b[0m: 'list' object has no attribute 'find'"
     ]
    }
   ],
   "source": [
    "palabra = 'coche'\n",
    "\n",
    "palabra_oculta = ' _ ' * len(palabra)\n",
    "\n",
    "letra_nosotras = 'c'\n",
    "\n",
    "if letra_nosotras \n",
    "\n",
    "lista_coche = list(palabra_oculta)\n",
    "print(lista_coche)\n",
    "\n",
    "lista_coche.replace()\n",
    "\n",
    "if letra_nosotras in lista_coche: \n",
    "    lista_coche\n",
    "    \n",
    "palabra_oculta\n"
   ]
  }
 ],
 "metadata": {
  "kernelspec": {
   "display_name": "base",
   "language": "python",
   "name": "python3"
  },
  "language_info": {
   "codemirror_mode": {
    "name": "ipython",
    "version": 3
   },
   "file_extension": ".py",
   "mimetype": "text/x-python",
   "name": "python",
   "nbconvert_exporter": "python",
   "pygments_lexer": "ipython3",
   "version": "3.12.4"
  }
 },
 "nbformat": 4,
 "nbformat_minor": 2
}
