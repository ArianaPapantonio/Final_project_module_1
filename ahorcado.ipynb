{
 "cells": [
  {
   "cell_type": "code",
   "execution_count": 1,
   "metadata": {},
   "outputs": [],
   "source": [
    "a = '''\n",
    "      +---+\n",
    "      |   |\n",
    "          |\n",
    "          |\n",
    "          |\n",
    "          |\n",
    "          |\n",
    "    ========='''\n"
   ]
  },
  {
   "cell_type": "code",
   "execution_count": 2,
   "metadata": {},
   "outputs": [
    {
     "name": "stdout",
     "output_type": "stream",
     "text": [
      "\n",
      "      +---+\n",
      "      |   |\n",
      "          |\n",
      "          |\n",
      "          |\n",
      "          |\n",
      "          |\n",
      "    =========\n"
     ]
    }
   ],
   "source": [
    "print(a)"
   ]
  },
  {
   "cell_type": "code",
   "execution_count": 3,
   "metadata": {},
   "outputs": [],
   "source": [
    "b = '''\n",
    "      +---+\n",
    "      |   |\n",
    "      O   |\n",
    "          |\n",
    "          |\n",
    "          |\n",
    "          |\n",
    "    ========='''\n",
    "\n"
   ]
  },
  {
   "cell_type": "code",
   "execution_count": 4,
   "metadata": {},
   "outputs": [
    {
     "name": "stdout",
     "output_type": "stream",
     "text": [
      "\n",
      "      +---+\n",
      "      |   |\n",
      "      O   |\n",
      "          |\n",
      "          |\n",
      "          |\n",
      "          |\n",
      "    =========\n"
     ]
    }
   ],
   "source": [
    "print(b)"
   ]
  },
  {
   "cell_type": "code",
   "execution_count": 5,
   "metadata": {},
   "outputs": [],
   "source": [
    "c = '''\n",
    "      +---+\n",
    "      |   |\n",
    "      O   |\n",
    "      |   |\n",
    "      |   |\n",
    "          |\n",
    "          |\n",
    "    ========='''\n"
   ]
  },
  {
   "cell_type": "code",
   "execution_count": 6,
   "metadata": {},
   "outputs": [
    {
     "name": "stdout",
     "output_type": "stream",
     "text": [
      "\n",
      "      +---+\n",
      "      |   |\n",
      "      O   |\n",
      "      |   |\n",
      "      |   |\n",
      "          |\n",
      "          |\n",
      "    =========\n"
     ]
    }
   ],
   "source": [
    "print(c)"
   ]
  },
  {
   "cell_type": "code",
   "execution_count": 7,
   "metadata": {},
   "outputs": [],
   "source": [
    "d = '''\n",
    "      +---+\n",
    "      |   |\n",
    "      O   |\n",
    "     /|   |\n",
    "      |   |\n",
    "          |\n",
    "          |\n",
    "    ========='''"
   ]
  },
  {
   "cell_type": "code",
   "execution_count": 8,
   "metadata": {},
   "outputs": [
    {
     "name": "stdout",
     "output_type": "stream",
     "text": [
      "\n",
      "      +---+\n",
      "      |   |\n",
      "      O   |\n",
      "     /|   |\n",
      "      |   |\n",
      "          |\n",
      "          |\n",
      "    =========\n"
     ]
    }
   ],
   "source": [
    "print(d)"
   ]
  },
  {
   "cell_type": "code",
   "execution_count": 9,
   "metadata": {},
   "outputs": [],
   "source": [
    "e = '''\n",
    "      +---+\n",
    "      |   |\n",
    "      O   |\n",
    "     /|\\  |\n",
    "      |   |\n",
    "          |\n",
    "          |\n",
    "    ========='''"
   ]
  },
  {
   "cell_type": "code",
   "execution_count": 10,
   "metadata": {},
   "outputs": [
    {
     "name": "stdout",
     "output_type": "stream",
     "text": [
      "\n",
      "      +---+\n",
      "      |   |\n",
      "      O   |\n",
      "     /|\\  |\n",
      "      |   |\n",
      "          |\n",
      "          |\n",
      "    =========\n"
     ]
    }
   ],
   "source": [
    "print(e)"
   ]
  },
  {
   "cell_type": "code",
   "execution_count": 11,
   "metadata": {},
   "outputs": [],
   "source": [
    "f = '''\n",
    "      +---+\n",
    "      |   |\n",
    "      O   |\n",
    "     /|\\  |\n",
    "      |   |\n",
    "     /    |\n",
    "          |\n",
    "    ========='''"
   ]
  },
  {
   "cell_type": "code",
   "execution_count": 12,
   "metadata": {},
   "outputs": [
    {
     "name": "stdout",
     "output_type": "stream",
     "text": [
      "\n",
      "      +---+\n",
      "      |   |\n",
      "      O   |\n",
      "     /|\\  |\n",
      "      |   |\n",
      "     /    |\n",
      "          |\n",
      "    =========\n"
     ]
    }
   ],
   "source": [
    "print(f)"
   ]
  },
  {
   "cell_type": "code",
   "execution_count": 13,
   "metadata": {},
   "outputs": [],
   "source": [
    "g = '''\n",
    "      +---+\n",
    "      |   |\n",
    "      O   |\n",
    "    ===== |\n",
    "     /|\\  |\n",
    "      |   |\n",
    "     / \\  |\n",
    "          |\n",
    "    ========='''"
   ]
  },
  {
   "cell_type": "code",
   "execution_count": 14,
   "metadata": {},
   "outputs": [
    {
     "name": "stdout",
     "output_type": "stream",
     "text": [
      "\n",
      "      +---+\n",
      "      |   |\n",
      "      O   |\n",
      "    ===== |\n",
      "     /|\\  |\n",
      "      |   |\n",
      "     / \\  |\n",
      "          |\n",
      "    =========\n"
     ]
    }
   ],
   "source": [
    "print(g)"
   ]
  },
  {
   "cell_type": "code",
   "execution_count": 17,
   "metadata": {},
   "outputs": [
    {
     "name": "stdout",
     "output_type": "stream",
     "text": [
      "Palabra oculta:  _  _  _  _  _  _  _ \n",
      "La letra indicada es j\n",
      "Palabra oculta es: j _ _ _ _ _ _\n",
      "La letra indicada es 5\n",
      "La letra 5 no está en la palabra secreta 🙁. Te quedan 5 vidas\n",
      "La letra indicada es i\n",
      "Palabra oculta es: j _ _ i _ _ _\n",
      "La letra indicada es t\n",
      "Palabra oculta es: j _ _ i t _ _\n",
      "La letra indicada es e\n",
      "Palabra oculta es: j _ _ i t e _\n",
      "La letra indicada es r\n",
      "Palabra oculta es: j _ _ i t e r\n",
      "La letra indicada es uu\n",
      "Debe ingresar solo 1 letra\n",
      "La letra indicada es p\n",
      "Palabra oculta es: j _ p i t e r\n",
      "La letra indicada es i\n",
      "Palabra oculta es: j _ p i t e r\n",
      "La letra indicada es u\n",
      "Palabra oculta es: j u p i t e r\n",
      "Felicidades, has adivinado la palabra oculta j u p i t e r 🎉\n"
     ]
    }
   ],
   "source": [
    "import random \n",
    "# creamos lista de palabras secretas\n",
    "palabras_secretas = [\"oro\", \"jupiter\", \"coche\"] \n",
    "# Random choice para que el ordenador elija una palabra de manera aleatoria\n",
    "palabra_secreta_aleatoria = random.choice(palabras_secretas) \n",
    "# Contador de vidas restantes (por cada parte del cuerpo)\n",
    "vidas_usuario = 6\n",
    "# Encriptamos la palabra secreta con \"_\"\n",
    "palabra_oculta = \" _ \" * len(palabra_secreta_aleatoria) # Dejamos espacios con el guión para que se vea el número de letras que tiene la palabra\n",
    "print(f\"Palabra oculta: {palabra_oculta}\")\n",
    "\n",
    "while True:\n",
    "    # Recogemos la letra del usuario\n",
    "    letra_usuario = input(f\"Indica una letra de la {palabra_oculta}\").lower()\n",
    "    print(f\"La letra indicada es {letra_usuario}\")\n",
    "    # Protegemos que indique solo 1 letra\n",
    "    if len(letra_usuario) > 1:\n",
    "        print(f\"Debe ingresar solo 1 letra\")\n",
    "    else:\n",
    "        if letra_usuario in palabra_secreta_aleatoria: \n",
    "            # Creamos lista de la palabra oculta y palabra_secreta_aleatoria para cambiar las letras que adivine el usuario mediente el índice de ambas listas\n",
    "            palabra_oculta = palabra_oculta.replace(\" \",\"\") # Eliminamos el espacio del string de la palabra oculta para que no los incluya en la lista -> incluimos espacios para que se viera mejor el númeror de guiones \n",
    "            palabra_oculta_lista = list(palabra_oculta)  \n",
    "            palabra_secreta_aleatoria_lista = list(palabra_secreta_aleatoria) \n",
    "            # Generamos un bucle for que iterará por los índices del rango de la palabra secreta -> i = 0, i = 1 ... así hasta el len de palabra_secreta_aleatoria_lista\n",
    "            for i in range(len(palabra_secreta_aleatoria_lista)): \n",
    "                # Obtenemos el índice donde está la letra del usuario dentro de la palabra secreta\n",
    "                if palabra_secreta_aleatoria_lista[i] == letra_usuario: \n",
    "                    # Sustituimos la letra del usuario en la palabra en la posición del índice obtenido\n",
    "                    palabra_oculta_lista[i] = letra_usuario \n",
    "            # Paso la palabra oculta lista a string para mostrarla al usuario -> join y usamos como delimitador \" \", porque quiero una cadena de texto con separación entre los guiones\n",
    "            palabra_oculta = \" \".join(palabra_oculta_lista)\n",
    "            print(f\"Palabra oculta es: {palabra_oculta}\")\n",
    "            if \"_\" not in palabra_oculta:\n",
    "                print(f\"Felicidades, has adivinado la palabra oculta {palabra_oculta} 🎉\")\n",
    "                break\n",
    "        else:\n",
    "            vidas_usuario -= 1\n",
    "            print(f\"La letra {letra_usuario} no está en la palabra secreta 🙁. Te quedan {vidas_usuario} vidas\")\n",
    "            if vidas_usuario == 0:\n",
    "                print(f\"Has agotado todas tus vidas, el juego ha terminado 💀. La palabra secreta era {palabra_secreta_aleatoria}\")\n",
    "                break\n"
   ]
  },
  {
   "cell_type": "code",
   "execution_count": 18,
   "metadata": {},
   "outputs": [
    {
     "name": "stdout",
     "output_type": "stream",
     "text": [
      "Palabra oculta:  _  _  _ \n",
      "La letra indicada es 55\n",
      "Debe ingresar una letra, no un número u otro carácter.\n",
      "La letra indicada es 4\n",
      "Debe ingresar una letra, no un número u otro carácter.\n",
      "La letra indicada es *\n",
      "Debe ingresar una letra, no un número u otro carácter.\n",
      "La letra indicada es *\n",
      "Debe ingresar una letra, no un número u otro carácter.\n",
      "La letra indicada es j\n",
      "La letra j no está en la palabra secreta 🙁. Te quedan 5 vidas\n",
      "La letra indicada es o\n",
      "Palabra oculta es: o _ o\n",
      "La letra indicada es r\n",
      "Palabra oculta es: o r o\n",
      "Felicidades, has adivinado la palabra oculta o r o 🎉\n"
     ]
    }
   ],
   "source": [
    "### QA \n",
    "\n",
    "import random \n",
    "# creamos lista de palabras secretas\n",
    "palabras_secretas = [\"oro\", \"jupiter\", \"coche\"] \n",
    "# Random choice para que el ordenador elija una palabra de manera aleatoria\n",
    "palabra_secreta_aleatoria = random.choice(palabras_secretas) \n",
    "# Contador de vidas restantes (por cada parte del cuerpo)\n",
    "vidas_usuario = 6\n",
    "# Encriptamos la palabra secreta con \"_\"\n",
    "palabra_oculta = \" _ \" * len(palabra_secreta_aleatoria) # Dejamos espacios con el guión para que se vea el número de letras que tiene la palabra\n",
    "print(f\"Palabra oculta: {palabra_oculta}\")\n",
    "\n",
    "while True:\n",
    "    # Recogemos la letra del usuario\n",
    "    letra_usuario = input(f\"Indica una letra de la palabra oculta: {palabra_oculta}\").lower()\n",
    "    print(f\"La letra indicada es {letra_usuario}\")\n",
    "\n",
    "   # Verificar si el usuario ingresó un número o un carácter que no sea una letra\n",
    "    if not letra_usuario.isalpha():\n",
    "        print(\"Debe ingresar una letra, no un número u otro carácter.\")\n",
    "        continue  # Reinicia para que vuelva a intentar\n",
    "    # Protegemos que indique solo 1 letra\n",
    "    if len(letra_usuario) > 1:\n",
    "        print(f\"Debe ingresar solo 1 letra\")\n",
    "        continue  # Reinicia para que el vuelva a intentar\n",
    "\n",
    "    else:\n",
    "        if letra_usuario in palabra_secreta_aleatoria: \n",
    "            # Creamos lista de la palabra oculta y palabra_secreta_aleatoria para cambiar las letras que adivine el usuario mediente el índice de ambas listas\n",
    "            palabra_oculta = palabra_oculta.replace(\" \",\"\") # Eliminamos el espacio del string de la palabra oculta para que no los incluya en la lista -> incluimos espacios para que se viera mejor el númeror de guiones \n",
    "            palabra_oculta_lista = list(palabra_oculta)  \n",
    "            palabra_secreta_aleatoria_lista = list(palabra_secreta_aleatoria) \n",
    "            # Generamos un bucle for que iterará por los índices del rango de la palabra secreta -> i = 0, i = 1 ... así hasta el len de palabra_secreta_aleatoria_lista\n",
    "            for i in range(len(palabra_secreta_aleatoria_lista)): \n",
    "                # Obtenemos el índice donde está la letra del usuario dentro de la palabra secreta\n",
    "                if palabra_secreta_aleatoria_lista[i] == letra_usuario: \n",
    "                    # Sustituimos la letra del usuario en la palabra en la posición del índice obtenido\n",
    "                    palabra_oculta_lista[i] = letra_usuario \n",
    "            # Paso la palabra oculta lista a string para mostrarla al usuario -> join y usamos como delimitador \" \", porque quiero una cadena de texto con separación entre los guiones\n",
    "            palabra_oculta = \" \".join(palabra_oculta_lista)\n",
    "            print(f\"Palabra oculta es: {palabra_oculta}\")\n",
    "            if \"_\" not in palabra_oculta:\n",
    "                print(f\"Felicidades, has adivinado la palabra oculta {palabra_oculta} 🎉\")\n",
    "                break\n",
    "        else:\n",
    "            vidas_usuario -= 1\n",
    "            print(f\"La letra {letra_usuario} no está en la palabra secreta 🙁. Te quedan {vidas_usuario} vidas\")\n",
    "            if vidas_usuario == 0:\n",
    "                print(f\"Has agotado todas tus vidas, el juego ha terminado 💀. La palabra secreta era {palabra_secreta_aleatoria}\")\n",
    "                break"
   ]
  }
 ],
 "metadata": {
  "kernelspec": {
   "display_name": "Python 3",
   "language": "python",
   "name": "python3"
  },
  "language_info": {
   "codemirror_mode": {
    "name": "ipython",
    "version": 3
   },
   "file_extension": ".py",
   "mimetype": "text/x-python",
   "name": "python",
   "nbconvert_exporter": "python",
   "pygments_lexer": "ipython3",
   "version": "3.11.9"
  }
 },
 "nbformat": 4,
 "nbformat_minor": 2
}
