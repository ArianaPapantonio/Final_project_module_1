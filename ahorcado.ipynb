{
 "cells": [
  {
   "cell_type": "code",
   "execution_count": 16,
   "metadata": {},
   "outputs": [],
   "source": [
    "a = '''\n",
    "      +---+\n",
    "      |   |\n",
    "          |\n",
    "          |\n",
    "          |\n",
    "          |\n",
    "          |\n",
    "    ========='''\n"
   ]
  },
  {
   "cell_type": "code",
   "execution_count": 17,
   "metadata": {},
   "outputs": [
    {
     "name": "stdout",
     "output_type": "stream",
     "text": [
      "\n",
      "      +---+\n",
      "      |   |\n",
      "          |\n",
      "          |\n",
      "          |\n",
      "          |\n",
      "          |\n",
      "    =========\n"
     ]
    }
   ],
   "source": [
    "print(a)"
   ]
  },
  {
   "cell_type": "code",
   "execution_count": 18,
   "metadata": {},
   "outputs": [],
   "source": [
    "b = '''\n",
    "      +---+\n",
    "      |   |\n",
    "      O   |\n",
    "          |\n",
    "          |\n",
    "          |\n",
    "          |\n",
    "    ========='''\n",
    "\n"
   ]
  },
  {
   "cell_type": "code",
   "execution_count": 19,
   "metadata": {},
   "outputs": [
    {
     "name": "stdout",
     "output_type": "stream",
     "text": [
      "\n",
      "      +---+\n",
      "      |   |\n",
      "      O   |\n",
      "          |\n",
      "          |\n",
      "          |\n",
      "          |\n",
      "    =========\n"
     ]
    }
   ],
   "source": [
    "print(b)"
   ]
  },
  {
   "cell_type": "code",
   "execution_count": 20,
   "metadata": {},
   "outputs": [],
   "source": [
    "c = '''\n",
    "      +---+\n",
    "      |   |\n",
    "      O   |\n",
    "      |   |\n",
    "      |   |\n",
    "          |\n",
    "          |\n",
    "    ========='''\n"
   ]
  },
  {
   "cell_type": "code",
   "execution_count": 21,
   "metadata": {},
   "outputs": [
    {
     "name": "stdout",
     "output_type": "stream",
     "text": [
      "\n",
      "      +---+\n",
      "      |   |\n",
      "      O   |\n",
      "      |   |\n",
      "      |   |\n",
      "          |\n",
      "          |\n",
      "    =========\n"
     ]
    }
   ],
   "source": [
    "print(c)"
   ]
  },
  {
   "cell_type": "code",
   "execution_count": 22,
   "metadata": {},
   "outputs": [],
   "source": [
    "d = '''\n",
    "      +---+\n",
    "      |   |\n",
    "      O   |\n",
    "     /|   |\n",
    "      |   |\n",
    "          |\n",
    "          |\n",
    "    ========='''"
   ]
  },
  {
   "cell_type": "code",
   "execution_count": 23,
   "metadata": {},
   "outputs": [
    {
     "name": "stdout",
     "output_type": "stream",
     "text": [
      "\n",
      "      +---+\n",
      "      |   |\n",
      "      O   |\n",
      "     /|   |\n",
      "      |   |\n",
      "          |\n",
      "          |\n",
      "    =========\n"
     ]
    }
   ],
   "source": [
    "print(d)"
   ]
  },
  {
   "cell_type": "code",
   "execution_count": 31,
   "metadata": {},
   "outputs": [
    {
     "name": "stderr",
     "output_type": "stream",
     "text": [
      "<>:1: SyntaxWarning: invalid escape sequence '\\ '\n",
      "<>:1: SyntaxWarning: invalid escape sequence '\\ '\n",
      "/tmp/ipykernel_9218/168730147.py:1: SyntaxWarning: invalid escape sequence '\\ '\n",
      "  e = '''\n"
     ]
    }
   ],
   "source": [
    "e = '''\n",
    "      +---+\n",
    "      |   |\n",
    "      O   |\n",
    "     /|\\  |\n",
    "      |   |\n",
    "          |\n",
    "          |\n",
    "    ========='''"
   ]
  },
  {
   "cell_type": "code",
   "execution_count": 25,
   "metadata": {},
   "outputs": [
    {
     "name": "stdout",
     "output_type": "stream",
     "text": [
      "\n",
      "      +---+\n",
      "      |   |\n",
      "      O   |\n",
      "     /|\\  |\n",
      "      |   |\n",
      "          |\n",
      "          |\n",
      "    =========\n"
     ]
    }
   ],
   "source": [
    "print(e)"
   ]
  },
  {
   "cell_type": "code",
   "execution_count": 26,
   "metadata": {},
   "outputs": [
    {
     "name": "stderr",
     "output_type": "stream",
     "text": [
      "<>:1: SyntaxWarning: invalid escape sequence '\\ '\n",
      "<>:1: SyntaxWarning: invalid escape sequence '\\ '\n",
      "/tmp/ipykernel_9218/3613663732.py:1: SyntaxWarning: invalid escape sequence '\\ '\n",
      "  f = '''\n"
     ]
    }
   ],
   "source": [
    "f = '''\n",
    "      +---+\n",
    "      |   |\n",
    "      O   |\n",
    "     /|\\  |\n",
    "      |   |\n",
    "     /    |\n",
    "          |\n",
    "    ========='''"
   ]
  },
  {
   "cell_type": "code",
   "execution_count": 27,
   "metadata": {},
   "outputs": [
    {
     "name": "stdout",
     "output_type": "stream",
     "text": [
      "\n",
      "      +---+\n",
      "      |   |\n",
      "      O   |\n",
      "     /|\\  |\n",
      "      |   |\n",
      "     /    |\n",
      "          |\n",
      "    =========\n"
     ]
    }
   ],
   "source": [
    "print(f)"
   ]
  },
  {
   "cell_type": "code",
   "execution_count": 28,
   "metadata": {},
   "outputs": [
    {
     "name": "stderr",
     "output_type": "stream",
     "text": [
      "<>:1: SyntaxWarning: invalid escape sequence '\\ '\n",
      "<>:1: SyntaxWarning: invalid escape sequence '\\ '\n",
      "/tmp/ipykernel_9218/3488292933.py:1: SyntaxWarning: invalid escape sequence '\\ '\n",
      "  g = '''\n"
     ]
    }
   ],
   "source": [
    "g = '''\n",
    "      +---+\n",
    "      |   |\n",
    "      O   |\n",
    "    ===== |\n",
    "     /|\\  |\n",
    "      |   |\n",
    "     / \\  |\n",
    "          |\n",
    "    ========='''"
   ]
  },
  {
   "cell_type": "code",
   "execution_count": 29,
   "metadata": {},
   "outputs": [
    {
     "name": "stdout",
     "output_type": "stream",
     "text": [
      "\n",
      "      +---+\n",
      "      |   |\n",
      "      O   |\n",
      "    ===== |\n",
      "     /|\\  |\n",
      "      |   |\n",
      "     / \\  |\n",
      "          |\n",
      "    =========\n"
     ]
    }
   ],
   "source": [
    "print(g)"
   ]
  },
  {
   "cell_type": "code",
   "execution_count": 38,
   "metadata": {},
   "outputs": [
    {
     "name": "stdout",
     "output_type": "stream",
     "text": [
      "Palabra oculta:  _  _  _  _  _ \n",
      "La letra indicada es c\n",
      "Palabra oculta es: c _ c _ _\n",
      "La letra indicada es o\n",
      "Palabra oculta es: c o c _ _\n",
      "La letra indicada es q\n",
      "La letra q no está en la palabra secreta 🙁. Te quedan 5 vidas\n",
      "La letra indicada es q\n",
      "La letra q no está en la palabra secreta 🙁. Te quedan 4 vidas\n",
      "La letra indicada es q\n",
      "La letra q no está en la palabra secreta 🙁. Te quedan 3 vidas\n",
      "La letra indicada es q\n",
      "La letra q no está en la palabra secreta 🙁. Te quedan 2 vidas\n",
      "La letra indicada es q\n",
      "La letra q no está en la palabra secreta 🙁. Te quedan 1 vidas\n",
      "La letra indicada es q\n",
      "La letra q no está en la palabra secreta 🙁. Te quedan 0 vidas\n",
      "Has agotado todas tus vidas, el juego ha terminado 💀. La palabra secreta era coche\n"
     ]
    }
   ],
   "source": [
    "import random \n",
    "# creamos lista de palabras secretas\n",
    "palabras_secretas = [\"oro\", \"jupiter\", \"coche\"] \n",
    "# Random choice para que el ordenador elija una palabra de manera aleatoria\n",
    "palabra_secreta_aleatoria = random.choice(palabras_secretas) \n",
    "# Contador de vidas restantes (por cada parte del cuerpo)\n",
    "vidas_usuario = 6\n",
    "# Encriptamos la palabra secreta con \"_\"\n",
    "palabra_oculta = \" _ \" * len(palabra_secreta_aleatoria) # Dejamos espacios con el guión para que se vea el número de letras que tiene la palabra\n",
    "print(f\"Palabra oculta: {palabra_oculta}\")\n",
    "\n",
    "while True:\n",
    "    # Recogemos la letra del usuario\n",
    "    letra_usuario = input(f\"Indica una letra de la {palabra_oculta}\").lower()\n",
    "    print(f\"La letra indicada es {letra_usuario}\")\n",
    "    # Protegemos que indique solo 1 letra\n",
    "    if len(letra_usuario) > 1:\n",
    "        print(f\"Debe ingresar solo 1 letra\")\n",
    "    else:\n",
    "        if letra_usuario in palabra_secreta_aleatoria: \n",
    "            # Creamos lista de la palabra oculta y palabra_secreta_aleatoria para cambiar las letras que adivine el usuario mediente el índice de ambas listas\n",
    "            palabra_oculta = palabra_oculta.replace(\" \",\"\") # Eliminamos el espacio del string de la palabra oculta para que no los incluya en la lista -> incluimos espacios para que se viera mejor el númeror de guiones \n",
    "            palabra_oculta_lista = list(palabra_oculta)  \n",
    "            palabra_secreta_aleatoria_lista = list(palabra_secreta_aleatoria) \n",
    "            # Generamos un bucle for que iterará por los índices del rango de la palabra secreta -> i = 0, i = 1 ... así hasta el len de palabra_secreta_aleatoria_lista\n",
    "            for i in range(len(palabra_secreta_aleatoria_lista)): \n",
    "                # Obtenemos el índice donde está la letra del usuario dentro de la palabra secreta\n",
    "                if palabra_secreta_aleatoria_lista[i] == letra_usuario: \n",
    "                    # Sustituimos la letra del usuario en la palabra en la posición del índice obtenido\n",
    "                    palabra_oculta_lista[i] = letra_usuario \n",
    "            # Paso la palabra oculta lista a string para mostrarla al usuario -> join y usamos como delimitador \" \", porque quiero una cadena de texto con separación entre los guiones\n",
    "            palabra_oculta = \" \".join(palabra_oculta_lista)\n",
    "            print(f\"Palabra oculta es: {palabra_oculta}\")\n",
    "            if \"_\" not in palabra_oculta:\n",
    "                print(f\"Felicidades, has adivinado la palabra oculta {palabra_oculta} 🎉\")\n",
    "                break\n",
    "        else:\n",
    "            vidas_usuario -= 1\n",
    "            print(f\"La letra {letra_usuario} no está en la palabra secreta 🙁. Te quedan {vidas_usuario} vidas\")\n",
    "            if vidas_usuario == 0:\n",
    "                print(f\"Has agotado todas tus vidas, el juego ha terminado 💀. La palabra secreta era {palabra_secreta_aleatoria}\")\n",
    "                break\n"
   ]
  }
 ],
 "metadata": {
  "kernelspec": {
   "display_name": "base",
   "language": "python",
   "name": "python3"
  },
  "language_info": {
   "codemirror_mode": {
    "name": "ipython",
    "version": 3
   },
   "file_extension": ".py",
   "mimetype": "text/x-python",
   "name": "python",
   "nbconvert_exporter": "python",
   "pygments_lexer": "ipython3",
   "version": "3.12.4"
  }
 },
 "nbformat": 4,
 "nbformat_minor": 2
}
