{
 "cells": [
  {
   "cell_type": "code",
   "execution_count": 16,
   "metadata": {},
   "outputs": [],
   "source": [
    "a = '''\n",
    "      +---+\n",
    "      |   |\n",
    "          |\n",
    "          |\n",
    "          |\n",
    "          |\n",
    "          |\n",
    "    ========='''\n"
   ]
  },
  {
   "cell_type": "code",
   "execution_count": 17,
   "metadata": {},
   "outputs": [
    {
     "name": "stdout",
     "output_type": "stream",
     "text": [
      "\n",
      "      +---+\n",
      "      |   |\n",
      "          |\n",
      "          |\n",
      "          |\n",
      "          |\n",
      "          |\n",
      "    =========\n"
     ]
    }
   ],
   "source": [
    "print(a)"
   ]
  },
  {
   "cell_type": "code",
   "execution_count": 18,
   "metadata": {},
   "outputs": [],
   "source": [
    "b = '''\n",
    "      +---+\n",
    "      |   |\n",
    "      O   |\n",
    "          |\n",
    "          |\n",
    "          |\n",
    "          |\n",
    "    ========='''\n",
    "\n"
   ]
  },
  {
   "cell_type": "code",
   "execution_count": 19,
   "metadata": {},
   "outputs": [
    {
     "name": "stdout",
     "output_type": "stream",
     "text": [
      "\n",
      "      +---+\n",
      "      |   |\n",
      "      O   |\n",
      "          |\n",
      "          |\n",
      "          |\n",
      "          |\n",
      "    =========\n"
     ]
    }
   ],
   "source": [
    "print(b)"
   ]
  },
  {
   "cell_type": "code",
   "execution_count": 20,
   "metadata": {},
   "outputs": [],
   "source": [
    "c = '''\n",
    "      +---+\n",
    "      |   |\n",
    "      O   |\n",
    "      |   |\n",
    "      |   |\n",
    "          |\n",
    "          |\n",
    "    ========='''\n"
   ]
  },
  {
   "cell_type": "code",
   "execution_count": 21,
   "metadata": {},
   "outputs": [
    {
     "name": "stdout",
     "output_type": "stream",
     "text": [
      "\n",
      "      +---+\n",
      "      |   |\n",
      "      O   |\n",
      "      |   |\n",
      "      |   |\n",
      "          |\n",
      "          |\n",
      "    =========\n"
     ]
    }
   ],
   "source": [
    "print(c)"
   ]
  },
  {
   "cell_type": "code",
   "execution_count": 22,
   "metadata": {},
   "outputs": [],
   "source": [
    "d = '''\n",
    "      +---+\n",
    "      |   |\n",
    "      O   |\n",
    "     /|   |\n",
    "      |   |\n",
    "          |\n",
    "          |\n",
    "    ========='''"
   ]
  },
  {
   "cell_type": "code",
   "execution_count": 23,
   "metadata": {},
   "outputs": [
    {
     "name": "stdout",
     "output_type": "stream",
     "text": [
      "\n",
      "      +---+\n",
      "      |   |\n",
      "      O   |\n",
      "     /|   |\n",
      "      |   |\n",
      "          |\n",
      "          |\n",
      "    =========\n"
     ]
    }
   ],
   "source": [
    "print(d)"
   ]
  },
  {
   "cell_type": "code",
   "execution_count": 31,
   "metadata": {},
   "outputs": [
    {
     "name": "stderr",
     "output_type": "stream",
     "text": [
      "<>:1: SyntaxWarning: invalid escape sequence '\\ '\n",
      "<>:1: SyntaxWarning: invalid escape sequence '\\ '\n",
      "/tmp/ipykernel_9218/168730147.py:1: SyntaxWarning: invalid escape sequence '\\ '\n",
      "  e = '''\n"
     ]
    }
   ],
   "source": [
    "e = '''\n",
    "      +---+\n",
    "      |   |\n",
    "      O   |\n",
    "     /|\\  |\n",
    "      |   |\n",
    "          |\n",
    "          |\n",
    "    ========='''"
   ]
  },
  {
   "cell_type": "code",
   "execution_count": 25,
   "metadata": {},
   "outputs": [
    {
     "name": "stdout",
     "output_type": "stream",
     "text": [
      "\n",
      "      +---+\n",
      "      |   |\n",
      "      O   |\n",
      "     /|\\  |\n",
      "      |   |\n",
      "          |\n",
      "          |\n",
      "    =========\n"
     ]
    }
   ],
   "source": [
    "print(e)"
   ]
  },
  {
   "cell_type": "code",
   "execution_count": 26,
   "metadata": {},
   "outputs": [
    {
     "name": "stderr",
     "output_type": "stream",
     "text": [
      "<>:1: SyntaxWarning: invalid escape sequence '\\ '\n",
      "<>:1: SyntaxWarning: invalid escape sequence '\\ '\n",
      "/tmp/ipykernel_9218/3613663732.py:1: SyntaxWarning: invalid escape sequence '\\ '\n",
      "  f = '''\n"
     ]
    }
   ],
   "source": [
    "f = '''\n",
    "      +---+\n",
    "      |   |\n",
    "      O   |\n",
    "     /|\\  |\n",
    "      |   |\n",
    "     /    |\n",
    "          |\n",
    "    ========='''"
   ]
  },
  {
   "cell_type": "code",
   "execution_count": 27,
   "metadata": {},
   "outputs": [
    {
     "name": "stdout",
     "output_type": "stream",
     "text": [
      "\n",
      "      +---+\n",
      "      |   |\n",
      "      O   |\n",
      "     /|\\  |\n",
      "      |   |\n",
      "     /    |\n",
      "          |\n",
      "    =========\n"
     ]
    }
   ],
   "source": [
    "print(f)"
   ]
  },
  {
   "cell_type": "code",
   "execution_count": 28,
   "metadata": {},
   "outputs": [
    {
     "name": "stderr",
     "output_type": "stream",
     "text": [
      "<>:1: SyntaxWarning: invalid escape sequence '\\ '\n",
      "<>:1: SyntaxWarning: invalid escape sequence '\\ '\n",
      "/tmp/ipykernel_9218/3488292933.py:1: SyntaxWarning: invalid escape sequence '\\ '\n",
      "  g = '''\n"
     ]
    }
   ],
   "source": [
    "g = '''\n",
    "      +---+\n",
    "      |   |\n",
    "      O   |\n",
    "    ===== |\n",
    "     /|\\  |\n",
    "      |   |\n",
    "     / \\  |\n",
    "          |\n",
    "    ========='''"
   ]
  },
  {
   "cell_type": "code",
   "execution_count": 29,
   "metadata": {},
   "outputs": [
    {
     "name": "stdout",
     "output_type": "stream",
     "text": [
      "\n",
      "      +---+\n",
      "      |   |\n",
      "      O   |\n",
      "    ===== |\n",
      "     /|\\  |\n",
      "      |   |\n",
      "     / \\  |\n",
      "          |\n",
      "    =========\n"
     ]
    }
   ],
   "source": [
    "print(g)"
   ]
  },
  {
   "cell_type": "code",
   "execution_count": 30,
   "metadata": {},
   "outputs": [
    {
     "name": "stdout",
     "output_type": "stream",
     "text": [
      "oro\n",
      "La palabra oculta con espacio es:  _  _  _ \n"
     ]
    },
    {
     "name": "stdout",
     "output_type": "stream",
     "text": [
      "o\n",
      "La palabra oculta SIN espacios es: ___\n",
      "Palabra oculta str: o_o\n",
      "r\n",
      "La palabra oculta SIN espacios es: o_o\n",
      "Palabra oculta str: oro\n",
      "Felicidades, has adivinado la palabra oculta oro 🎉\n"
     ]
    }
   ],
   "source": [
    "\n",
    "#inicio ahorcado \n",
    "import random\n",
    "#crear lista de palabras secretas\n",
    "palabras_secretas = [\"oro\"]\n",
    "\n",
    "#random para que el ordenador elija una palabra\n",
    "palabra_secreta_aleatoria = random.choice(palabras_secretas)\n",
    "print(palabra_secreta_aleatoria)\n",
    "\n",
    "#contador de vidas restantes (por cada parte del cuerpo)\n",
    "vidas_usuario = 6\n",
    "\n",
    "#cambiar palabra por guiones bajos\n",
    "palabra_oculta = \" _ \" * len(palabra_secreta_aleatoria) # Dejamos espacios con el guión para que se vea el número de letras que tiene la palabra\n",
    "print(f'La palabra oculta con espacio es: {palabra_oculta}')\n",
    "\n",
    "#bucle se para cuando ya haya adivinado (en caso que no haya mas guiones bajos) o cuando las vidas del usuario se hayan agotado: \n",
    "#while \" _ \" in palabra_oculta or vidas_usuario > 0: #PDTE: Probar con while True\n",
    "while True:\n",
    "    #imprimir letra usuario: \n",
    "    letra_usuario = input(f\"Indica una letra de la {palabra_oculta}\").lower()\n",
    "    print(letra_usuario)\n",
    "    \n",
    "    #añadimos for en caso de que haya letras repetidas\n",
    "    #for letra in palabra_secreta_aleatoria: \n",
    "    if letra_usuario in palabra_secreta_aleatoria: \n",
    "        #Necesito sustituir el _ en palabra oculta por la letra del usuario en la posición que ocupa esa letra en la palabra secreta\n",
    "        # Creamos lista de la palabra oculta y palabra_secreta_aleatoria para cambiar las letras que adivine el usuario mediente el índice de ambas listas\n",
    "        palabra_oculta = palabra_oculta.replace(\" \",\"\") # Eliminamos el espacio del str de la palabra oculta para que no los incluya en la lista\n",
    "        print(f'La palabra oculta SIN espacios es: {palabra_oculta}')\n",
    "        palabra_oculta_lista = list(palabra_oculta)  \n",
    "        palabra_secreta_aleatoria_lista = list(palabra_secreta_aleatoria) \n",
    "        \n",
    "        for i in range(len(palabra_secreta_aleatoria_lista)): # nos generamos un range con la longitud de la lista de la palabra secreta\n",
    "            if palabra_secreta_aleatoria_lista[i] == letra_usuario: #en vez de iterar por los elementos de la lista, como lo anterior genero un indice, ahora accedemos a cada elemnto de la lista por su indice. \n",
    "                palabra_oculta_lista[i] = letra_usuario #le hacemos una asignación directa (este codigo solo se ejecuta cuando aparezca el 'hola'). \n",
    "        \n",
    "         # Paso la palabra oculta a string para mostrarla al usuario -> join y no usamos nada como delimitador, porque quiero una cadena de texto\n",
    "        palabra_oculta = \"\".join(palabra_oculta_lista)\n",
    "        print(f\"Palabra oculta str: {palabra_oculta}\")\n",
    "        \n",
    "        if \"_\" not in palabra_oculta:\n",
    "            print(f\"Felicidades, has adivinado la palabra oculta {palabra_oculta} 🎉\")\n",
    "            break\n",
    "        \n",
    "    else:\n",
    "        vidas_usuario -= 1\n",
    "        print(f\"La letra {letra_usuario} no está en la palabra secreta 🙁. Te quedan {vidas_usuario} vidas\")\n",
    "        if vidas_usuario == 0:\n",
    "            print(f\"Has agotado todas tus vidas, el juego ha terminado 💀\")\n",
    "            break\n"
   ]
  }
 ],
 "metadata": {
  "kernelspec": {
   "display_name": "base",
   "language": "python",
   "name": "python3"
  },
  "language_info": {
   "codemirror_mode": {
    "name": "ipython",
    "version": 3
   },
   "file_extension": ".py",
   "mimetype": "text/x-python",
   "name": "python",
   "nbconvert_exporter": "python",
   "pygments_lexer": "ipython3",
   "version": "3.12.4"
  }
 },
 "nbformat": 4,
 "nbformat_minor": 2
}
