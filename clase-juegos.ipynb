{
 "cells": [
  {
   "cell_type": "code",
   "execution_count": null,
   "metadata": {},
   "outputs": [],
   "source": [
    "class Juegos_clasicos:\n",
    "    def __init__(self, nombre):\n",
    "        self.nombre = nombre\n",
    "    \n",
    "    def jugadora(self, nombre):\n",
    "        print(f\"Hola {self.nombre}, bienvenida a Juegos Clásicos con Python\")\n",
    "    \n",
    "    def ahorcado(self):\n",
    "        print(f\"{self.nombre}, ¿preparada para jugar al Ahorcado?\")\n",
    "        print(\"-------------------------------------\")\n",
    "        print(\"Antes de empezar, te explico las Reglas del Juego\")\n",
    "        print(\"-------------------------------------\")\n",
    "\n",
    "    def p_p_t(self):\n",
    "\n",
    "        print(f\"Hola {self.nombre}, ¿cuántos jugadores, 1 o 2?\")\n",
    "        jug = input(\"Introduce el número de jugadores\")\n",
    "        if jug == \"1\":\n",
    "            print(\"vas a jugar contra la máquina\")\n",
    "        elif jug == \"2\":\n",
    "            print(\"yo soy tu oponente\")\n",
    "        else:\n",
    "            print(\"opción no valida\")\n",
    "    \n",
    "    def geografia(self):\n",
    "        print(f\"Hola {self.nombre}, pon a pruebas tus conocimientos sobre Geografía con el juego de Preguntas y Respuestas\")\n",
    "        \n",
    "    \n",
    "    def jugar(self):\n",
    "        print(\"¿A qué juego quieres jugar?\")\n",
    "        print(\"Introduce una de las siguientes opciones:\")\n",
    "        print('''        1 --> Si quieres jugar al AHORCADO\n",
    "                2 --> si quieres jugar a PIEDRA, PAPEL, TIJERA\n",
    "                3 --> si quieres jugar a PREGUNTAS Y RESPUESTAS ''')\n",
    "        opcion = int(input(\"¿A qué juego quieres jugar?: 1, 2 o 3\"))\n",
    "\n",
    "        if opcion == 1:\n",
    "            self.ahorcado()\n",
    "        elif opcion == 2:\n",
    "            self.p_p_t()\n",
    "        elif opcion == 3:\n",
    "            self.geografia()\n",
    "        else:\n",
    "            print(\"opcion no valida\")"
   ]
  },
  {
   "cell_type": "code",
   "execution_count": null,
   "metadata": {},
   "outputs": [],
   "source": []
  }
 ],
 "metadata": {
  "kernelspec": {
   "display_name": "Python 3",
   "language": "python",
   "name": "python3"
  },
  "language_info": {
   "codemirror_mode": {
    "name": "ipython",
    "version": 3
   },
   "file_extension": ".py",
   "mimetype": "text/x-python",
   "name": "python",
   "nbconvert_exporter": "python",
   "pygments_lexer": "ipython3",
   "version": "3.12.4"
  }
 },
 "nbformat": 4,
 "nbformat_minor": 2
}
