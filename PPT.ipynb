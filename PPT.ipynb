{
 "cells": [
  {
   "cell_type": "markdown",
   "metadata": {},
   "source": [
    "### Reglas del juego de \"Piedra, Papel o Tijera\"\n",
    "\n",
    "El jugador se enfrenta al ordenador en una serie de rondas de \"piedra, papel o tijera\".\n",
    "El objetivo del juego es ser el primero en alcanzar 3 puntos.\n",
    "\n",
    "##### Cómo jugar:\n",
    "\n",
    "Al inicio de cada ronda, el ordenador escoge una opción al azar entre piedra, papel o tijera y el jugador elige una de las tres opciones. \n",
    "Ambas opciones se comparan para determinar quién gana la ronda:\n",
    "\n",
    "Piedra vence a Tijera.\n",
    "Tijera vence a Papel.\n",
    "Papel vence a Piedra.\n",
    "Si ambos jugadores eligen la misma opción, la ronda se considera un empate.\n",
    "\n",
    "##### Puntuación:\n",
    "\n",
    "Cada vez que el jugador gana una ronda, suma 1 punto.\n",
    "Cada vez que el ordenador gana una ronda, suma 1 punto.\n",
    "Si la ronda es un empate, no se otorgan puntos.\n",
    "\n",
    "Después de cada ronda, se muestra el marcador actual con los puntos del jugador y del ordenador.\n",
    "También se indica si el jugador ganó, perdió o empató la ronda.\n",
    "\n",
    "##### Fin del juego:\n",
    "\n",
    "El juego finaliza cuando uno de los jugadores (el jugador o el ordenador) alcanza los 3 puntos.\n",
    "Si el jugador gana, se muestra un mensaje de felicitación. \n",
    "Si el ordenador gana, se muestra un mensaje indicando la derrota."
   ]
  },
  {
   "cell_type": "code",
   "execution_count": 6,
   "metadata": {},
   "outputs": [],
   "source": [
    "import random"
   ]
  },
  {
   "cell_type": "code",
   "execution_count": 7,
   "metadata": {},
   "outputs": [
    {
     "name": "stdout",
     "output_type": "stream",
     "text": [
      "Tu respuesta: piedra\n",
      "Respuesta ordenador: piedra\n",
      "Empate\n",
      "Marcador: usuario: 0 - ordenador: 0\n",
      "---------------------------------\n",
      "Tu respuesta: papel\n",
      "Respuesta ordenador: piedra\n",
      "Has ganado esta ronda\n",
      "Marcador: usuario: 1 - ordenador: 0\n",
      "---------------------------------\n",
      "Tu respuesta: papel\n",
      "Respuesta ordenador: piedra\n",
      "Has ganado esta ronda\n",
      "Marcador: usuario: 2 - ordenador: 0\n",
      "---------------------------------\n",
      "Tu respuesta: papel\n",
      "Respuesta ordenador: piedra\n",
      "Has ganado esta ronda\n",
      "Marcador: usuario: 3 - ordenador: 0\n",
      "---------------------------------\n",
      "¡Felicitaciones! Has ganado! 🎉\n"
     ]
    }
   ],
   "source": [
    "# Definir puntos objetivos mediante variable y hacer otras dos variables para contabilizar los puntos del usuario y del ordenador: \n",
    "\n",
    "obj_puntos = 3 \n",
    "puntos_usuario = 0\n",
    "puntos_ordenador = 0\n",
    "\n",
    "# Preguntar al ordenador qué opcion elige mediante random choice de la lista de variable opciones:\n",
    "opciones = ['piedra', 'papel', 'tijera']\n",
    "respuesta_ordenador = random.choice(opciones)\n",
    "\n",
    "while True: \n",
    "\n",
    "    # Preguntar al jugador mediante input cuál es la opción que elige:\n",
    "    respuesta_usuario = input('Escoge una opción: piedra, papel o tijera').lower()\n",
    "    \n",
    "    if respuesta_usuario not in opciones:\n",
    "        print('Introduce una de las opciones')\n",
    "\n",
    "        respuesta_usuario = input('Escoge una opción válida: piedra, papel o tijera')  \n",
    "\n",
    "    elif respuesta_usuario == respuesta_ordenador: \n",
    "        \n",
    "        print(f'Tu respuesta: {respuesta_usuario}')\n",
    "        print(f'Respuesta ordenador: {respuesta_ordenador}')\n",
    "        print('Empate')\n",
    "        print(f'Marcador: usuario: {puntos_usuario} - ordenador: {puntos_ordenador}')\n",
    "        print('---------------------------------')\n",
    "        \n",
    "    elif respuesta_usuario == 'piedra' and respuesta_ordenador == 'papel' or respuesta_usuario == 'papel' and respuesta_ordenador == 'tijera' or respuesta_usuario == 'tijera' and respuesta_ordenador == 'piedra':\n",
    "        puntos_ordenador += 1\n",
    "        print(f'Tu respuesta: {respuesta_usuario}')\n",
    "        print(f'Respuesta ordenador: {respuesta_ordenador}')\n",
    "        print('Has perdido esta ronda')\n",
    "        print(f'Marcador: usuario: {puntos_usuario} - ordenador: {puntos_ordenador}')\n",
    "        print('---------------------------------')\n",
    "        \n",
    "        if puntos_ordenador == obj_puntos:\n",
    "            print('Has perdido 😞')\n",
    "            break\n",
    "    elif respuesta_usuario == 'piedra' and respuesta_ordenador == 'tijera' or respuesta_usuario == 'papel' and respuesta_ordenador == 'piedra' or respuesta_usuario == 'tijera' and respuesta_ordenador == 'papel':\n",
    "        puntos_usuario += 1\n",
    "        print(f'Tu respuesta: {respuesta_usuario}')\n",
    "        print(f'Respuesta ordenador: {respuesta_ordenador}')\n",
    "        print('Has ganado esta ronda')\n",
    "        print(f'Marcador: usuario: {puntos_usuario} - ordenador: {puntos_ordenador}')\n",
    "        print('---------------------------------')\n",
    "        \n",
    "        if puntos_usuario == obj_puntos: \n",
    "            print('¡Felicitaciones! Has ganado! 🎉')\n",
    "            break\n",
    "    \n",
    "    \n",
    " "
   ]
  }
 ],
 "metadata": {
  "kernelspec": {
   "display_name": "base",
   "language": "python",
   "name": "python3"
  },
  "language_info": {
   "codemirror_mode": {
    "name": "ipython",
    "version": 3
   },
   "file_extension": ".py",
   "mimetype": "text/x-python",
   "name": "python",
   "nbconvert_exporter": "python",
   "pygments_lexer": "ipython3",
   "version": "3.12.4"
  }
 },
 "nbformat": 4,
 "nbformat_minor": 2
}
