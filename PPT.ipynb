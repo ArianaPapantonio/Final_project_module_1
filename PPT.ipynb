{
 "cells": [
  {
   "cell_type": "code",
   "execution_count": 1,
   "metadata": {},
   "outputs": [],
   "source": [
    "# Hacer un import random (para que el sistema elija una opción aleatoria entre Piedra, Papel o Tijera)\n",
    "\n",
    "import random"
   ]
  },
  {
   "cell_type": "code",
   "execution_count": null,
   "metadata": {},
   "outputs": [],
   "source": [
    "# Introducción al juego: \n",
    "\n",
    "# Reglas del Juego \"Piedra, Papel y Tijera\":\n",
    "\n",
    "# Dos jugadores eligen una de las tres opciones: \"Piedra\", \"Papel\" o \"Tijera\".\n",
    "\n",
    "# Las reglas para determinar al ganador son:\n",
    "        \n",
    "# Piedra vence a Tijera.\n",
    "\n",
    "# Tijera vence a Papel.\n",
    "\n",
    "# Papel vence a Piedra.\n",
    "\n",
    "#El jugador que gana una ronda obtiene un punto.\n",
    "        \n",
    "#El juego continúa hasta que un jugador haya acumulado 3 puntos, convirtiéndose en el ganador.\n"
   ]
  },
  {
   "cell_type": "code",
   "execution_count": 2,
   "metadata": {},
   "outputs": [
    {
     "name": "stdout",
     "output_type": "stream",
     "text": [
      "Tu respuesta: piedra\n",
      "Respuesta ordenador: tijera\n",
      "Has ganado esta ronda\n",
      "Marcador: usuario: 1 - ordenador: 0\n",
      "---------------------------------\n",
      "Tu respuesta: papel\n",
      "Respuesta ordenador: tijera\n",
      "Has perdido esta ronda\n",
      "Marcador: usuario: 1 - ordenador: 1\n",
      "---------------------------------\n",
      "Tu respuesta: tijera\n",
      "Respuesta ordenador: tijera\n",
      "Empate\n",
      "Marcador: usuario: 1 - ordenador: 1\n",
      "---------------------------------\n",
      "Tu respuesta: piedra\n",
      "Respuesta ordenador: tijera\n",
      "Has ganado esta ronda\n",
      "Marcador: usuario: 2 - ordenador: 1\n",
      "---------------------------------\n",
      "Tu respuesta: piedra\n",
      "Respuesta ordenador: tijera\n",
      "Has ganado esta ronda\n",
      "Marcador: usuario: 3 - ordenador: 1\n",
      "---------------------------------\n",
      "¡Felicitaciones! Has ganado! 🎉\n"
     ]
    }
   ],
   "source": [
    "# Definir puntos objetivos mediante variable y hacer otras dos variables para contabilizar los puntos del usuario y del ordenador: \n",
    "\n",
    "obj_puntos = 3 \n",
    "puntos_usuario = 0\n",
    "puntos_ordenador = 0\n",
    "\n",
    "# Preguntar al ordenador qué opcion elige mediante random choice de la lista de variable opciones:\n",
    "opciones = ['piedra', 'papel', 'tijera']\n",
    "respuesta_ordenador = random.choice(opciones)\n",
    "\n",
    "while True: \n",
    "\n",
    "    # Preguntar al jugador mediante input cuál es la opción que elige:\n",
    "    respuesta_usuario = input('Escoge una opción: piedra, papel o tijera').lower()\n",
    "    \n",
    "    if respuesta_usuario not in opciones:\n",
    "        print('Introduce una de las opciones')\n",
    "\n",
    "        respuesta_usuario = input('Escoge una opción válida: piedra, papel o tijera')  \n",
    "\n",
    "    elif respuesta_usuario == respuesta_ordenador: \n",
    "        \n",
    "        print(f'Tu respuesta: {respuesta_usuario}')\n",
    "        print(f'Respuesta ordenador: {respuesta_ordenador}')\n",
    "        print('Empate')\n",
    "        print(f'Marcador: usuario: {puntos_usuario} - ordenador: {puntos_ordenador}')\n",
    "        print('---------------------------------')\n",
    "        \n",
    "    elif respuesta_usuario == 'piedra' and respuesta_ordenador == 'papel' or respuesta_usuario == 'papel' and respuesta_ordenador == 'tijera' or respuesta_usuario == 'tijera' and respuesta_ordenador == 'piedra':\n",
    "        puntos_ordenador += 1\n",
    "        print(f'Tu respuesta: {respuesta_usuario}')\n",
    "        print(f'Respuesta ordenador: {respuesta_ordenador}')\n",
    "        print('Has perdido esta ronda')\n",
    "        print(f'Marcador: usuario: {puntos_usuario} - ordenador: {puntos_ordenador}')\n",
    "        print('---------------------------------')\n",
    "        \n",
    "        if puntos_ordenador == obj_puntos:\n",
    "            print('Has perdido 😞')\n",
    "            break\n",
    "    elif respuesta_usuario == 'piedra' and respuesta_ordenador == 'tijera' or respuesta_usuario == 'papel' and respuesta_ordenador == 'piedra' or respuesta_usuario == 'tijera' and respuesta_ordenador == 'papel':\n",
    "        puntos_usuario += 1\n",
    "        print(f'Tu respuesta: {respuesta_usuario}')\n",
    "        print(f'Respuesta ordenador: {respuesta_ordenador}')\n",
    "        print('Has ganado esta ronda')\n",
    "        print(f'Marcador: usuario: {puntos_usuario} - ordenador: {puntos_ordenador}')\n",
    "        print('---------------------------------')\n",
    "        \n",
    "        if puntos_usuario == obj_puntos: \n",
    "            print('¡Felicitaciones! Has ganado! 🎉')\n",
    "            break\n",
    "    \n",
    "    \n",
    " "
   ]
  }
 ],
 "metadata": {
  "kernelspec": {
   "display_name": "Python 3",
   "language": "python",
   "name": "python3"
  },
  "language_info": {
   "codemirror_mode": {
    "name": "ipython",
    "version": 3
   },
   "file_extension": ".py",
   "mimetype": "text/x-python",
   "name": "python",
   "nbconvert_exporter": "python",
   "pygments_lexer": "ipython3",
   "version": "3.12.4"
  }
 },
 "nbformat": 4,
 "nbformat_minor": 2
}
