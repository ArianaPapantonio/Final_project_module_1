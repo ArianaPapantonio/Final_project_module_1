{
 "cells": [
  {
   "cell_type": "markdown",
   "metadata": {},
   "source": [
    "# Preguntas y Respuestas\n",
    "\n",
    "\n",
    "- Reglas del Juego de \"Preguntas y Respuestas de Geografía\":\n",
    "    - El juego consiste en hacer preguntas de geografía y que el jugador adivine la respuesta correcta.\n",
    "\n",
    "    - Cada pregunta tiene una respuesta única y correcta.\n",
    "\n",
    "    - El jugador tiene un número limitado de intentos para responder correctamente a cada pregunta.\n",
    "\n",
    "    - El juego sigue hasta que el jugador responda incorrectamente 3 de veces o haya respondido 5 preguntas correctamente.\n",
    "\n",
    "\n",
    "- Pistas para las alumnas:\n",
    "\n",
    "    1. Comienza creando un diccionario que contenga preguntas de geografía como claves y respuestas como valores.\n",
    "\n",
    "    2. Implementa una función para seleccionar una pregunta aleatoria del diccionario.\n",
    "\n",
    "    3. Utiliza un bucle `while` para hacer preguntas de geografía hasta que el jugador responda un número específico de preguntas correctamente o alcance un número máximo de respuestas incorrectas.\n",
    "\n",
    "    4. Dentro del bucle, presenta la pregunta al jugador y permita que ingresen sus respuestas.\n",
    "\n",
    "    5. Lleva un seguimiento del número de preguntas realizadas y el número de respuestas correctas.\n",
    "\n",
    "    6. Determina las condiciones de victoria y derrota del juego y sal del bucle cuando se cumplan estas condiciones."
   ]
  },
  {
   "cell_type": "code",
   "execution_count": null,
   "metadata": {},
   "outputs": [],
   "source": [
    "#Diccionario con preguntas y respuestas (8 parejas)"
   ]
  },
  {
   "cell_type": "code",
   "execution_count": null,
   "metadata": {},
   "outputs": [],
   "source": [
    "#Indicar cuál es la respuesta correcta de cada pregunta\n",
    "#€€€ Poner una exposición a la respuesta correcta"
   ]
  },
  {
   "cell_type": "code",
   "execution_count": null,
   "metadata": {},
   "outputs": [],
   "source": [
    "#Hacer un randit(0,9) para elegir la pregunta"
   ]
  },
  {
   "cell_type": "code",
   "execution_count": null,
   "metadata": {},
   "outputs": [],
   "source": [
    "#Comprobar que la pregunta no haya sido contestada antes\n",
    "#Hacer la pregunta. Dar tres opciones de respuesta (1. 2. 3.)"
   ]
  },
  {
   "cell_type": "code",
   "execution_count": null,
   "metadata": {},
   "outputs": [],
   "source": [
    "\n",
    "#Solicitar al jugador su respuesta: (1,2 o 3) int(input(dime tu respuesta))-----dentro del bucle"
   ]
  },
  {
   "cell_type": "code",
   "execution_count": null,
   "metadata": {},
   "outputs": [],
   "source": [
    "#comprobar si respuesta es = solución\n",
    "    #sí: print(respuesta correcta, llevas x respuestas acertadas y has fallado en y intentos)\n",
    "    #€€€ Poner exposición a la respuesta correcta\n",
    "        #sumar en respuestas acertadas\n",
    "    #no: print(respuesta incorrecta, llevas x respuestas acertadas y has fallado en y intentos )\n",
    "        #sumar respuestas incorrectas\n",
    "#sumar intentos  \n"
   ]
  },
  {
   "cell_type": "code",
   "execution_count": null,
   "metadata": {},
   "outputs": [],
   "source": [
    "#comprobar el número de respuestas correctas e incorrectas\n",
    "    #si respuestas incorrectas = 3 . Has fallado intentalo otra vez...break\n",
    "    #si respuestas correctas = 5. Has ganado el juego....break\n",
    "    #si Si número de intentos = ???:mensaje 'ha teminado el juego'...break\n",
    "    #si respuestas incorrectas<3 o respuestas correctas <5 ....jugamos otra vez\n"
   ]
  }
 ],
 "metadata": {
  "kernelspec": {
   "display_name": "Python 3",
   "language": "python",
   "name": "python3"
  },
  "language_info": {
   "name": "python",
   "version": "3.12.4"
  }
 },
 "nbformat": 4,
 "nbformat_minor": 2
}
